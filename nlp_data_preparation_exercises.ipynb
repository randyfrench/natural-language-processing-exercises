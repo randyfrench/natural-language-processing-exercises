{
 "cells": [
  {
   "cell_type": "markdown",
   "id": "758a8071-dd74-4b16-a052-cb306c8840d0",
   "metadata": {},
   "source": [
    "# Exercises\n",
    "\n",
    "The end result of this exercise should be a file named prepare.py that defines the requested functions.\n",
    "\n",
    "In this exercise we will be defining some functions to prepare textual data. These functions should apply equally well to both the codeup blog articles and the news articles that were previously acquired."
   ]
  },
  {
   "cell_type": "code",
   "execution_count": 4,
   "id": "617ec908-bbc2-4fcd-b268-07391b90ca2a",
   "metadata": {},
   "outputs": [],
   "source": [
    "import unicodedata\n",
    "import re\n",
    "import json\n",
    "import nltk\n",
    "from nltk.tokenize.toktok import ToktokTokenizer\n",
    "from nltk.corpus import stopwords\n",
    "\n",
    "import pandas as pd\n",
    "import acquire"
   ]
  },
  {
   "cell_type": "code",
   "execution_count": 8,
   "id": "6129a5c8-ed41-477d-88d8-6be03cfb2cd9",
   "metadata": {},
   "outputs": [],
   "source": [
    "# get data for testing\n",
    "blog = acquire.get_blog_articles()\n",
    "news = acquire.get_inshorts_articles()"
   ]
  },
  {
   "cell_type": "code",
   "execution_count": 12,
   "id": "570dafc0-5df8-429f-932d-aae60d5d382a",
   "metadata": {},
   "outputs": [
    {
     "data": {
      "text/plain": [
       "'Any podcast enthusiasts out there? We are pleased to announce the release of Codeup’s first podcast, Hire Tech! Hire Tech is a conversation with new developers and the people that hire them, hosted by our CEO and Co-Founder, Jason Straughan.\\xa0\\nIn a world where “entry-level” positions often require 3 years of experience, Jason sets out to discover what it’s like to break into and work in the modern tech industry. To hear various perspectives, he interviews both Codeup alumni and tech leaders who have hired from Codeup. These stories show you the impact Codeup has on the tech world by empowering our community with real life change.\\nIn the first episode, Jason interviews Codeup alum Ryan Smith, who has been working as a Software Developer and Software Engineer for nearly two years. From a missionary in Colombia to a Dog Handler in Afghanistan, Ryan’s life experiences are one of the many ways he and other Codeup grads stand out to employers. That, paired with his interview preparation trick. Listen in to learn what it is!\\nThis episode will reveal how he went into his job search with total confidence, what he would tell hiring managers regarding junior-level talent, and why they shouldn’t get caught up on an applicant not knowing their primary language. Give it a listen on Spotify. Also available on Apple Podcasts, Anchor, and Google Podcasts, it’s perfect for your morning commute!'"
      ]
     },
     "execution_count": 12,
     "metadata": {},
     "output_type": "execute_result"
    }
   ],
   "source": [
    "original_blog = blog.content[0]\n",
    "original_blog"
   ]
  },
  {
   "cell_type": "code",
   "execution_count": 13,
   "id": "cdb83786-52f4-4510-95fd-84e7a2379c20",
   "metadata": {},
   "outputs": [
    {
     "data": {
      "text/plain": [
       "'Navi Mutual Fund is offering investors the option to start Systematic Investment Plans (SIPs) with ₹500 on its app. “With the recent spike in demand for mutual funds, Navi promises to offer a hassle-free digital experience to users and it is emerging as a preferred platform for direct investments”, the company said. Users can start investing via the Navi app.'"
      ]
     },
     "execution_count": 13,
     "metadata": {},
     "output_type": "execute_result"
    }
   ],
   "source": [
    "original_news = news.content[0]\n",
    "original_news"
   ]
  },
  {
   "cell_type": "markdown",
   "id": "0a75e23e-08a3-4f45-8ac9-0fe53796662f",
   "metadata": {},
   "source": [
    "## 1. Define a function named basic_clean. It should take in a string and apply some basic text cleaning to it:\n",
    "\n",
    "- Lowercase everything\n",
    "- Normalize unicode characters\n",
    "- Replace anything that is not a letter, number, whitespace or a single quote."
   ]
  },
  {
   "cell_type": "code",
   "execution_count": null,
   "id": "b49fec0f-67ba-4f98-ab67-6e45a01a00f6",
   "metadata": {},
   "outputs": [],
   "source": [
    "def basic_clean(string):\n",
    "    \"\"\"\n",
    "    This function will perform basic cleaning of a string. It will reduce all characters \n",
    "    to lower case, normalize unicode characters, and remove anything that is not a \n",
    "    letter, number, whitespace, or a single quote.\n",
    "    \"\"\"\n",
    "    \n",
    "    #Lower case everything\n",
    "    string = string.lower()\n",
    "    \n",
    "    #Normalize unicode characters, \n",
    "    #encode into ascii byte strings and ignore unknown chars,\n",
    "    #decode back into a UTF-8 string that we can work with\n",
    "    string = unicodedata.normalize('NFKD', string).encode('ascii', 'ignore').decode('UTF-8', 'ignore')\n",
    "    \n",
    "    #Use regex to replace anything that is not a letter, number, whitespace, or a single quote\n",
    "    string = re.sub(r\"[^a-z0-9\\s']\", '', string)\n",
    "    \n",
    "    return string"
   ]
  },
  {
   "cell_type": "code",
   "execution_count": 17,
   "id": "c2c02186-3943-443d-ae41-ce5d18aa40aa",
   "metadata": {},
   "outputs": [
    {
     "data": {
      "text/plain": [
       "'any podcast enthusiasts out there we are pleased to announce the release of codeups first podcast hire tech hire tech is a conversation with new developers and the people that hire them hosted by our ceo and cofounder jason straughan \\nin a world where entrylevel positions often require 3 years of experience jason sets out to discover what its like to break into and work in the modern tech industry to hear various perspectives he interviews both codeup alumni and tech leaders who have hired from codeup these stories show you the impact codeup has on the tech world by empowering our community with real life change\\nin the first episode jason interviews codeup alum ryan smith who has been working as a software developer and software engineer for nearly two years from a missionary in colombia to a dog handler in afghanistan ryans life experiences are one of the many ways he and other codeup grads stand out to employers that paired with his interview preparation trick listen in to learn what it is\\nthis episode will reveal how he went into his job search with total confidence what he would tell hiring managers regarding juniorlevel talent and why they shouldnt get caught up on an applicant not knowing their primary language give it a listen on spotify also available on apple podcasts anchor and google podcasts its perfect for your morning commute'"
      ]
     },
     "execution_count": 17,
     "metadata": {},
     "output_type": "execute_result"
    }
   ],
   "source": [
    "# for testing basic cleaning of the blot articles\n",
    "cleaned_blog = basic_clean(original_blog)\n",
    "cleaned_blog"
   ]
  },
  {
   "cell_type": "code",
   "execution_count": 18,
   "id": "3a52a249-d4b1-4fe4-bf9f-43ea4d06a008",
   "metadata": {},
   "outputs": [
    {
     "data": {
      "text/plain": [
       "'navi mutual fund is offering investors the option to start systematic investment plans sips with 500 on its app with the recent spike in demand for mutual funds navi promises to offer a hasslefree digital experience to users and it is emerging as a preferred platform for direct investments the company said users can start investing via the navi app'"
      ]
     },
     "execution_count": 18,
     "metadata": {},
     "output_type": "execute_result"
    }
   ],
   "source": [
    "# for testing basic cleaning of the news articles\n",
    "cleaned_news = basic_clean(original_news)\n",
    "cleaned_news"
   ]
  },
  {
   "cell_type": "markdown",
   "id": "993ff169-bf64-4ae4-9790-e13755edad1f",
   "metadata": {},
   "source": [
    "## 2. Define a function named tokenize. It should take in a string and tokenize all the words in the string."
   ]
  },
  {
   "cell_type": "code",
   "execution_count": 19,
   "id": "fbf1c149-ecf4-4919-b1c0-8a400130c8b8",
   "metadata": {},
   "outputs": [],
   "source": [
    "def tokenize(string):\n",
    "    \"\"\"\n",
    "    This function will tokenize all the words in the given string and return the \n",
    "    tokenized string.\n",
    "    \"\"\"\n",
    "    \n",
    "    #Create the tokenizer\n",
    "    tokenizer = nltk.tokenize.ToktokTokenizer()\n",
    "    \n",
    "    #Use the tokenizer\n",
    "    string = tokenizer.tokenize(string, return_str = True)\n",
    "    \n",
    "    return string"
   ]
  },
  {
   "cell_type": "code",
   "execution_count": 22,
   "id": "8195ab42-c93e-44fd-8e8e-38f5da81d82d",
   "metadata": {},
   "outputs": [
    {
     "data": {
      "text/plain": [
       "'any podcast enthusiasts out there we are pleased to announce the release of codeups first podcast hire tech hire tech is a conversation with new developers and the people that hire them hosted by our ceo and cofounder jason straughan \\nin a world where entrylevel positions often require 3 years of experience jason sets out to discover what its like to break into and work in the modern tech industry to hear various perspectives he interviews both codeup alumni and tech leaders who have hired from codeup these stories show you the impact codeup has on the tech world by empowering our community with real life change\\nin the first episode jason interviews codeup alum ryan smith who has been working as a software developer and software engineer for nearly two years from a missionary in colombia to a dog handler in afghanistan ryans life experiences are one of the many ways he and other codeup grads stand out to employers that paired with his interview preparation trick listen in to learn what it is\\nthis episode will reveal how he went into his job search with total confidence what he would tell hiring managers regarding juniorlevel talent and why they shouldnt get caught up on an applicant not knowing their primary language give it a listen on spotify also available on apple podcasts anchor and google podcasts its perfect for your morning commute'"
      ]
     },
     "execution_count": 22,
     "metadata": {},
     "output_type": "execute_result"
    }
   ],
   "source": [
    "# for testing untoenized blog articles\n",
    "cleaned_blog"
   ]
  },
  {
   "cell_type": "code",
   "execution_count": 23,
   "id": "1cc189d8-a13f-4124-b801-116a35ae4478",
   "metadata": {},
   "outputs": [
    {
     "data": {
      "text/plain": [
       "'any podcast enthusiasts out there we are pleased to announce the release of codeups first podcast hire tech hire tech is a conversation with new developers and the people that hire them hosted by our ceo and cofounder jason straughan \\nin a world where entrylevel positions often require 3 years of experience jason sets out to discover what its like to break into and work in the modern tech industry to hear various perspectives he interviews both codeup alumni and tech leaders who have hired from codeup these stories show you the impact codeup has on the tech world by empowering our community with real life change\\nin the first episode jason interviews codeup alum ryan smith who has been working as a software developer and software engineer for nearly two years from a missionary in colombia to a dog handler in afghanistan ryans life experiences are one of the many ways he and other codeup grads stand out to employers that paired with his interview preparation trick listen in to learn what it is\\nthis episode will reveal how he went into his job search with total confidence what he would tell hiring managers regarding juniorlevel talent and why they shouldnt get caught up on an applicant not knowing their primary language give it a listen on spotify also available on apple podcasts anchor and google podcasts its perfect for your morning commute'"
      ]
     },
     "execution_count": 23,
     "metadata": {},
     "output_type": "execute_result"
    }
   ],
   "source": [
    "# Tokenized\n",
    "tokenized_blog = tokenize(cleaned_blog)\n",
    "tokenized_blog\n"
   ]
  },
  {
   "cell_type": "markdown",
   "id": "ae676bad-33cb-4e75-9ce3-6b02fb414ff2",
   "metadata": {},
   "source": [
    "### 3. Define a function named stem. It should accept some text and return the text after applying stemming to all the words."
   ]
  },
  {
   "cell_type": "code",
   "execution_count": 24,
   "id": "2984fc55-1026-473b-a06e-726b3c1bea36",
   "metadata": {},
   "outputs": [],
   "source": [
    "def stem(string):\n",
    "    '''\n",
    "    This function takes in a string and\n",
    "    returns a string with words stemmed.\n",
    "    '''\n",
    "    # Create porter stemmer.\n",
    "    ps = nltk.porter.PorterStemmer()\n",
    "    \n",
    "    # Use the stemmer to stem each word in the list of words we created by using split.\n",
    "    stems = [ps.stem(word) for word in string.split()]\n",
    "    \n",
    "    # Join our lists of words into a string again and assign to a variable.\n",
    "    string = ' '.join(stems)\n",
    "    \n",
    "    return string"
   ]
  },
  {
   "cell_type": "code",
   "execution_count": 25,
   "id": "1639ffda-4070-4f62-928a-1c025d066881",
   "metadata": {},
   "outputs": [
    {
     "data": {
      "text/plain": [
       "'any podcast enthusiasts out there we are pleased to announce the release of codeups first podcast hire tech hire tech is a conversation with new developers and the people that hire them hosted by our ceo and cofounder jason straughan \\nin a world where entrylevel positions often require 3 years of experience jason sets out to discover what its like to break into and work in the modern tech industry to hear various perspectives he interviews both codeup alumni and tech leaders who have hired from codeup these stories show you the impact codeup has on the tech world by empowering our community with real life change\\nin the first episode jason interviews codeup alum ryan smith who has been working as a software developer and software engineer for nearly two years from a missionary in colombia to a dog handler in afghanistan ryans life experiences are one of the many ways he and other codeup grads stand out to employers that paired with his interview preparation trick listen in to learn what it is\\nthis episode will reveal how he went into his job search with total confidence what he would tell hiring managers regarding juniorlevel talent and why they shouldnt get caught up on an applicant not knowing their primary language give it a listen on spotify also available on apple podcasts anchor and google podcasts its perfect for your morning commute'"
      ]
     },
     "execution_count": 25,
     "metadata": {},
     "output_type": "execute_result"
    }
   ],
   "source": [
    "# for testing unstemmed\n",
    "tokenized_blog"
   ]
  },
  {
   "cell_type": "code",
   "execution_count": 26,
   "id": "00dc8bd8-0d57-4777-a49b-8ff4a9f05e40",
   "metadata": {},
   "outputs": [
    {
     "data": {
      "text/plain": [
       "'ani podcast enthusiast out there we are pleas to announc the releas of codeup first podcast hire tech hire tech is a convers with new develop and the peopl that hire them host by our ceo and cofound jason straughan in a world where entrylevel posit often requir 3 year of experi jason set out to discov what it like to break into and work in the modern tech industri to hear variou perspect he interview both codeup alumni and tech leader who have hire from codeup these stori show you the impact codeup ha on the tech world by empow our commun with real life chang in the first episod jason interview codeup alum ryan smith who ha been work as a softwar develop and softwar engin for nearli two year from a missionari in colombia to a dog handler in afghanistan ryan life experi are one of the mani way he and other codeup grad stand out to employ that pair with hi interview prepar trick listen in to learn what it is thi episod will reveal how he went into hi job search with total confid what he would tell hire manag regard juniorlevel talent and whi they shouldnt get caught up on an applic not know their primari languag give it a listen on spotifi also avail on appl podcast anchor and googl podcast it perfect for your morn commut'"
      ]
     },
     "execution_count": 26,
     "metadata": {},
     "output_type": "execute_result"
    }
   ],
   "source": [
    "# stemmed\n",
    "stemmed = stem(tokenized_blog)\n",
    "stemmed"
   ]
  },
  {
   "cell_type": "markdown",
   "id": "62aeced7-5196-49da-b40f-859883e8da43",
   "metadata": {},
   "source": [
    "## 4. Define a function named lemmatize. It should accept some text and return the text after applying lemmatization to each word."
   ]
  },
  {
   "cell_type": "code",
   "execution_count": 31,
   "id": "7379071e-d27a-41e0-8d6f-9787b7b1b0bb",
   "metadata": {},
   "outputs": [
    {
     "name": "stderr",
     "output_type": "stream",
     "text": [
      "[nltk_data] Downloading package wordnet to\n",
      "[nltk_data]     /Users/randyfrench/nltk_data...\n",
      "[nltk_data]   Package wordnet is already up-to-date!\n"
     ]
    },
    {
     "data": {
      "text/plain": [
       "True"
      ]
     },
     "execution_count": 31,
     "metadata": {},
     "output_type": "execute_result"
    }
   ],
   "source": [
    "# Download the wordnet\n",
    "nltk.download('wordnet')"
   ]
  },
  {
   "cell_type": "code",
   "execution_count": 32,
   "id": "459c3a40-1cfa-4221-9f68-ea91c057c8d5",
   "metadata": {},
   "outputs": [],
   "source": [
    "def lemmatize(string):\n",
    "    '''\n",
    "    This function takes in string for and\n",
    "    returns a string with words lemmatized.\n",
    "    '''\n",
    "    # Create the lemmatizer.\n",
    "    wnl = nltk.stem.WordNetLemmatizer()\n",
    "    \n",
    "    # Use the lemmatizer on each word in the list of words we created by using split.\n",
    "    lemmas = [wnl.lemmatize(word) for word in string.split()]\n",
    "    \n",
    "    # Join our list of words into a string again and assign to a variable.\n",
    "    string = ' '.join(lemmas)\n",
    "    \n",
    "    return string"
   ]
  },
  {
   "cell_type": "code",
   "execution_count": 33,
   "id": "fed14f1b-a28b-455d-9f3b-cb235c689c71",
   "metadata": {},
   "outputs": [
    {
     "data": {
      "text/plain": [
       "'any podcast enthusiast out there we are pleased to announce the release of codeups first podcast hire tech hire tech is a conversation with new developer and the people that hire them hosted by our ceo and cofounder jason straughan in a world where entrylevel position often require 3 year of experience jason set out to discover what it like to break into and work in the modern tech industry to hear various perspective he interview both codeup alumnus and tech leader who have hired from codeup these story show you the impact codeup ha on the tech world by empowering our community with real life change in the first episode jason interview codeup alum ryan smith who ha been working a a software developer and software engineer for nearly two year from a missionary in colombia to a dog handler in afghanistan ryans life experience are one of the many way he and other codeup grad stand out to employer that paired with his interview preparation trick listen in to learn what it is this episode will reveal how he went into his job search with total confidence what he would tell hiring manager regarding juniorlevel talent and why they shouldnt get caught up on an applicant not knowing their primary language give it a listen on spotify also available on apple podcasts anchor and google podcasts it perfect for your morning commute'"
      ]
     },
     "execution_count": 33,
     "metadata": {},
     "output_type": "execute_result"
    }
   ],
   "source": [
    "# use the function defined above\n",
    "lemmatize(tokenized_blog)"
   ]
  },
  {
   "cell_type": "markdown",
   "id": "adb38a34-c822-4faf-baca-f5c5f99fc933",
   "metadata": {},
   "source": [
    "## 5. Define a function named remove_stopwords. It should accept some text and return the text after removing all the stopwords.\n",
    "\n",
    "This function should define two optional parameters, extra_words and exclude_words. These parameters should define any additional stop words to include, and any words that we don't want to remove."
   ]
  },
  {
   "cell_type": "code",
   "execution_count": 34,
   "id": "2dfa6eff-b24d-4de5-8768-8b296c3631c1",
   "metadata": {},
   "outputs": [
    {
     "name": "stderr",
     "output_type": "stream",
     "text": [
      "[nltk_data] Downloading package stopwords to\n",
      "[nltk_data]     /Users/randyfrench/nltk_data...\n",
      "[nltk_data]   Package stopwords is already up-to-date!\n"
     ]
    },
    {
     "data": {
      "text/plain": [
       "True"
      ]
     },
     "execution_count": 34,
     "metadata": {},
     "output_type": "execute_result"
    }
   ],
   "source": [
    "# download the stopword corpus\n",
    "nltk.download('stopwords')"
   ]
  },
  {
   "cell_type": "code",
   "execution_count": 35,
   "id": "92aa705c-fb7f-4ab9-a17d-957d52accf55",
   "metadata": {},
   "outputs": [],
   "source": [
    "def remove_stopwords(string, extra_words = [], exclude_words = []):\n",
    "    '''\n",
    "    This function takes in a string, optional extra_words and exclude_words parameters\n",
    "    with default empty lists and returns a string.\n",
    "    '''\n",
    "    # Create stopword_list.\n",
    "    stopword_list = stopwords.words('english')\n",
    "    \n",
    "    # Remove 'exclude_words' from stopword_list to keep these in my text.\n",
    "    stopword_list = set(stopword_list) - set(exclude_words)\n",
    "    \n",
    "    # Add in 'extra_words' to stopword_list.\n",
    "    stopword_list = stopword_list.union(set(extra_words))\n",
    "\n",
    "    # Split words in string.\n",
    "    words = string.split()\n",
    "    \n",
    "    # Create a list of words from my string with stopwords removed and assign to variable.\n",
    "    filtered_words = [word for word in words if word not in stopword_list]\n",
    "    \n",
    "    # Join words in the list back into strings and assign to a variable.\n",
    "    string_without_stopwords = ' '.join(filtered_words)\n",
    "    \n",
    "    return string_without_stopwords"
   ]
  },
  {
   "cell_type": "code",
   "execution_count": 36,
   "id": "c79e2981-1f5a-4a4c-b78e-0e94a88c6c74",
   "metadata": {},
   "outputs": [
    {
     "data": {
      "text/plain": [
       "'podcast enthusiasts pleased announce release codeups first podcast hire tech hire tech conversation new developers people hire hosted ceo cofounder jason straughan world entrylevel positions often require 3 years experience jason sets discover like break work modern tech industry hear various perspectives interviews codeup alumni tech leaders hired codeup stories show impact codeup tech world empowering community real life change first episode jason interviews codeup alum ryan smith working software developer software engineer nearly two years missionary colombia dog handler afghanistan ryans life experiences one many ways codeup grads stand employers paired interview preparation trick listen learn episode reveal went job search total confidence would tell hiring managers regarding juniorlevel talent shouldnt get caught applicant knowing primary language give listen spotify also available apple podcasts anchor google podcasts perfect morning commute'"
      ]
     },
     "execution_count": 36,
     "metadata": {},
     "output_type": "execute_result"
    }
   ],
   "source": [
    "# use the function defined above\n",
    "remove_stopwords(tokenized_blog)"
   ]
  },
  {
   "cell_type": "code",
   "execution_count": 37,
   "id": "ffc29f93-6b43-48d3-bdd5-d7ae14a4f1f9",
   "metadata": {},
   "outputs": [],
   "source": [
    "# create a list of extra words and words to exculde\n",
    "extra_words = ['trick', 'life', 'google']\n",
    "exclude_words = ['how']"
   ]
  },
  {
   "cell_type": "code",
   "execution_count": 39,
   "id": "e0dc7599-fa6c-4576-99c8-4b10150ca093",
   "metadata": {},
   "outputs": [
    {
     "data": {
      "text/plain": [
       "'podcast enthusiasts pleased announce release codeups first podcast hire tech hire tech conversation new developers people hire hosted ceo cofounder jason straughan world entrylevel positions often require 3 years experience jason sets discover like break work modern tech industry hear various perspectives interviews codeup alumni tech leaders hired codeup stories show impact codeup tech world empowering community real change first episode jason interviews codeup alum ryan smith working software developer software engineer nearly two years missionary colombia dog handler afghanistan ryans experiences one many ways codeup grads stand employers paired interview preparation listen learn episode reveal how went job search total confidence would tell hiring managers regarding juniorlevel talent shouldnt get caught applicant knowing primary language give listen spotify also available apple podcasts anchor podcasts perfect morning commute'"
      ]
     },
     "execution_count": 39,
     "metadata": {},
     "output_type": "execute_result"
    }
   ],
   "source": [
    "# a string without the stop words\n",
    "extra_clean = remove_stopwords(tokenized_blog, extra_words, exclude_words)\n",
    "extra_clean"
   ]
  },
  {
   "cell_type": "markdown",
   "id": "793edcfa-55e7-4a3c-9ad2-9f1135feb0eb",
   "metadata": {},
   "source": [
    "## 6. Use your data from the acquire to produce a dataframe of the news articles. Name the dataframe news_df."
   ]
  },
  {
   "cell_type": "code",
   "execution_count": 41,
   "id": "8160be2c-50e8-4570-a0d2-06f5104f04cd",
   "metadata": {},
   "outputs": [
    {
     "data": {
      "text/html": [
       "<div>\n",
       "<style scoped>\n",
       "    .dataframe tbody tr th:only-of-type {\n",
       "        vertical-align: middle;\n",
       "    }\n",
       "\n",
       "    .dataframe tbody tr th {\n",
       "        vertical-align: top;\n",
       "    }\n",
       "\n",
       "    .dataframe thead th {\n",
       "        text-align: right;\n",
       "    }\n",
       "</style>\n",
       "<table border=\"1\" class=\"dataframe\">\n",
       "  <thead>\n",
       "    <tr style=\"text-align: right;\">\n",
       "      <th></th>\n",
       "      <th>title</th>\n",
       "      <th>published</th>\n",
       "      <th>author</th>\n",
       "      <th>content</th>\n",
       "      <th>category</th>\n",
       "    </tr>\n",
       "  </thead>\n",
       "  <tbody>\n",
       "    <tr>\n",
       "      <th>0</th>\n",
       "      <td>Zydus Cadila to reduce price of its COVID-19 v...</td>\n",
       "      <td>2021-10-31T15:17:07.000Z</td>\n",
       "      <td>Pragya Swastik</td>\n",
       "      <td>Gujarat-based pharma company Zydus Cadila has ...</td>\n",
       "      <td>business</td>\n",
       "    </tr>\n",
       "    <tr>\n",
       "      <th>1</th>\n",
       "      <td>Bill Gates celebrates his 66th birthday with J...</td>\n",
       "      <td>2021-10-31T09:16:36.000Z</td>\n",
       "      <td>Pragya Swastik</td>\n",
       "      <td>Microsoft Co-founder Bill Gates, who turned 66...</td>\n",
       "      <td>business</td>\n",
       "    </tr>\n",
       "    <tr>\n",
       "      <th>2</th>\n",
       "      <td>Hebrew speakers mock Facebook's new name 'Meta...</td>\n",
       "      <td>2021-10-31T09:17:55.000Z</td>\n",
       "      <td>Pragya Swastik</td>\n",
       "      <td>Social media users in Israel are mocking Faceb...</td>\n",
       "      <td>business</td>\n",
       "    </tr>\n",
       "    <tr>\n",
       "      <th>3</th>\n",
       "      <td>Mumbai Police shares meme on Facebook name cha...</td>\n",
       "      <td>2021-10-30T15:57:03.000Z</td>\n",
       "      <td>Arshiya Chopra</td>\n",
       "      <td>After Facebook changed its company name to 'Me...</td>\n",
       "      <td>business</td>\n",
       "    </tr>\n",
       "    <tr>\n",
       "      <th>4</th>\n",
       "      <td>If UN can tell how $6 bn will solve world hung...</td>\n",
       "      <td>2021-10-31T15:22:38.000Z</td>\n",
       "      <td>Pragya Swastik</td>\n",
       "      <td>Tesla CEO Elon Musk said if the UN's World Foo...</td>\n",
       "      <td>business</td>\n",
       "    </tr>\n",
       "    <tr>\n",
       "      <th>...</th>\n",
       "      <td>...</td>\n",
       "      <td>...</td>\n",
       "      <td>...</td>\n",
       "      <td>...</td>\n",
       "      <td>...</td>\n",
       "    </tr>\n",
       "    <tr>\n",
       "      <th>95</th>\n",
       "      <td>Cringed on set during projects I did only for ...</td>\n",
       "      <td>2021-10-31T16:20:26.000Z</td>\n",
       "      <td>Kriti Kambiri</td>\n",
       "      <td>Actor Sharib Hashmi has revealed that in the p...</td>\n",
       "      <td>entertainment</td>\n",
       "    </tr>\n",
       "    <tr>\n",
       "      <th>96</th>\n",
       "      <td>Glad we've never been typical father/son duo: ...</td>\n",
       "      <td>2021-10-31T10:48:12.000Z</td>\n",
       "      <td>Mahima Kharbanda</td>\n",
       "      <td>Actor Anupam Kher wished his son Sikandar Kher...</td>\n",
       "      <td>entertainment</td>\n",
       "    </tr>\n",
       "    <tr>\n",
       "      <th>97</th>\n",
       "      <td>What the f*ck is that: Salman Khan to Tejasswi...</td>\n",
       "      <td>2021-10-31T09:59:34.000Z</td>\n",
       "      <td>Kriti Kambiri</td>\n",
       "      <td>A Bigg Boss 15 promo shows host Salman Khan sa...</td>\n",
       "      <td>entertainment</td>\n",
       "    </tr>\n",
       "    <tr>\n",
       "      <th>98</th>\n",
       "      <td>Urmila Matondkar tests positive for coronavirus</td>\n",
       "      <td>2021-10-31T08:57:07.000Z</td>\n",
       "      <td>Mahima Kharbanda</td>\n",
       "      <td>Actress-turned-politician Urmila Matondkar ann...</td>\n",
       "      <td>entertainment</td>\n",
       "    </tr>\n",
       "    <tr>\n",
       "      <th>99</th>\n",
       "      <td>Rajkummar Rao, Patralekhaa to tie the knot in ...</td>\n",
       "      <td>2021-10-31T09:55:39.000Z</td>\n",
       "      <td>Kriti Kambiri</td>\n",
       "      <td>Actor Rajkummar Rao is set to tie the knot wit...</td>\n",
       "      <td>entertainment</td>\n",
       "    </tr>\n",
       "  </tbody>\n",
       "</table>\n",
       "<p>100 rows × 5 columns</p>\n",
       "</div>"
      ],
      "text/plain": [
       "                                                title  \\\n",
       "0   Zydus Cadila to reduce price of its COVID-19 v...   \n",
       "1   Bill Gates celebrates his 66th birthday with J...   \n",
       "2   Hebrew speakers mock Facebook's new name 'Meta...   \n",
       "3   Mumbai Police shares meme on Facebook name cha...   \n",
       "4   If UN can tell how $6 bn will solve world hung...   \n",
       "..                                                ...   \n",
       "95  Cringed on set during projects I did only for ...   \n",
       "96  Glad we've never been typical father/son duo: ...   \n",
       "97  What the f*ck is that: Salman Khan to Tejasswi...   \n",
       "98    Urmila Matondkar tests positive for coronavirus   \n",
       "99  Rajkummar Rao, Patralekhaa to tie the knot in ...   \n",
       "\n",
       "                   published            author  \\\n",
       "0   2021-10-31T15:17:07.000Z    Pragya Swastik   \n",
       "1   2021-10-31T09:16:36.000Z    Pragya Swastik   \n",
       "2   2021-10-31T09:17:55.000Z    Pragya Swastik   \n",
       "3   2021-10-30T15:57:03.000Z    Arshiya Chopra   \n",
       "4   2021-10-31T15:22:38.000Z    Pragya Swastik   \n",
       "..                       ...               ...   \n",
       "95  2021-10-31T16:20:26.000Z     Kriti Kambiri   \n",
       "96  2021-10-31T10:48:12.000Z  Mahima Kharbanda   \n",
       "97  2021-10-31T09:59:34.000Z     Kriti Kambiri   \n",
       "98  2021-10-31T08:57:07.000Z  Mahima Kharbanda   \n",
       "99  2021-10-31T09:55:39.000Z     Kriti Kambiri   \n",
       "\n",
       "                                              content       category  \n",
       "0   Gujarat-based pharma company Zydus Cadila has ...       business  \n",
       "1   Microsoft Co-founder Bill Gates, who turned 66...       business  \n",
       "2   Social media users in Israel are mocking Faceb...       business  \n",
       "3   After Facebook changed its company name to 'Me...       business  \n",
       "4   Tesla CEO Elon Musk said if the UN's World Foo...       business  \n",
       "..                                                ...            ...  \n",
       "95  Actor Sharib Hashmi has revealed that in the p...  entertainment  \n",
       "96  Actor Anupam Kher wished his son Sikandar Kher...  entertainment  \n",
       "97  A Bigg Boss 15 promo shows host Salman Khan sa...  entertainment  \n",
       "98  Actress-turned-politician Urmila Matondkar ann...  entertainment  \n",
       "99  Actor Rajkummar Rao is set to tie the knot wit...  entertainment  \n",
       "\n",
       "[100 rows x 5 columns]"
      ]
     },
     "execution_count": 41,
     "metadata": {},
     "output_type": "execute_result"
    }
   ],
   "source": [
    "news_df = acquire.get_inshorts_articles()\n",
    "news_df"
   ]
  },
  {
   "cell_type": "markdown",
   "id": "51dd3028-414b-426f-a125-626dec9cda9e",
   "metadata": {},
   "source": [
    "## 7. Make another dataframe for the Codeup blog posts. Name the dataframe codeup_df."
   ]
  },
  {
   "cell_type": "code",
   "execution_count": 42,
   "id": "da289eb3-f6ee-4e39-8ccd-fc0907dbf113",
   "metadata": {},
   "outputs": [
    {
     "data": {
      "text/html": [
       "<div>\n",
       "<style scoped>\n",
       "    .dataframe tbody tr th:only-of-type {\n",
       "        vertical-align: middle;\n",
       "    }\n",
       "\n",
       "    .dataframe tbody tr th {\n",
       "        vertical-align: top;\n",
       "    }\n",
       "\n",
       "    .dataframe thead th {\n",
       "        text-align: right;\n",
       "    }\n",
       "</style>\n",
       "<table border=\"1\" class=\"dataframe\">\n",
       "  <thead>\n",
       "    <tr style=\"text-align: right;\">\n",
       "      <th></th>\n",
       "      <th>title</th>\n",
       "      <th>published</th>\n",
       "      <th>content</th>\n",
       "    </tr>\n",
       "  </thead>\n",
       "  <tbody>\n",
       "    <tr>\n",
       "      <th>0</th>\n",
       "      <td>Boris – Behind the Billboards</td>\n",
       "      <td>Oct 3, 2021</td>\n",
       "      <td></td>\n",
       "    </tr>\n",
       "    <tr>\n",
       "      <th>1</th>\n",
       "      <td>Is Codeup the Best Bootcamp in San Antonio…or ...</td>\n",
       "      <td>Sep 16, 2021</td>\n",
       "      <td>Looking for the best data science bootcamp in ...</td>\n",
       "    </tr>\n",
       "    <tr>\n",
       "      <th>2</th>\n",
       "      <td>Codeup Launches First Podcast: Hire Tech</td>\n",
       "      <td>Aug 25, 2021</td>\n",
       "      <td>Any podcast enthusiasts out there? We are plea...</td>\n",
       "    </tr>\n",
       "    <tr>\n",
       "      <th>3</th>\n",
       "      <td>Why Should I Become a System Administrator?</td>\n",
       "      <td>Aug 23, 2021</td>\n",
       "      <td>With so many tech careers in demand, why choos...</td>\n",
       "    </tr>\n",
       "    <tr>\n",
       "      <th>4</th>\n",
       "      <td>Announcing our Candidacy for Accreditation!</td>\n",
       "      <td>Jun 30, 2021</td>\n",
       "      <td>Did you know that even though we’re an indepen...</td>\n",
       "    </tr>\n",
       "    <tr>\n",
       "      <th>5</th>\n",
       "      <td>Codeup Takes Over More of the Historic Vogue B...</td>\n",
       "      <td>Jun 21, 2021</td>\n",
       "      <td>Codeup is moving into another floor of our His...</td>\n",
       "    </tr>\n",
       "    <tr>\n",
       "      <th>6</th>\n",
       "      <td>Inclusion at Codeup During Pride Month (and Al...</td>\n",
       "      <td>Jun 4, 2021</td>\n",
       "      <td>Happy Pride Month! Pride Month is a dedicated ...</td>\n",
       "    </tr>\n",
       "    <tr>\n",
       "      <th>7</th>\n",
       "      <td>Why You Need the Best Coding Bootcamp Instructors</td>\n",
       "      <td>May 21, 2021</td>\n",
       "      <td>One of the many reasons students love Codeup i...</td>\n",
       "    </tr>\n",
       "    <tr>\n",
       "      <th>8</th>\n",
       "      <td>Meet the new Codeup COO, Stephen Noteboom!</td>\n",
       "      <td>May 3, 2021</td>\n",
       "      <td>A big welcome to Stephen Noteboom, who will be...</td>\n",
       "    </tr>\n",
       "    <tr>\n",
       "      <th>9</th>\n",
       "      <td>How I Went From Codeup to Business Owner</td>\n",
       "      <td>Apr 30, 2021</td>\n",
       "      <td>Out of college, I was a bit of a mess. That’s ...</td>\n",
       "    </tr>\n",
       "    <tr>\n",
       "      <th>10</th>\n",
       "      <td>Coding is for Women</td>\n",
       "      <td>Apr 27, 2021</td>\n",
       "      <td>In a world where 91.5% of developers are male,...</td>\n",
       "    </tr>\n",
       "    <tr>\n",
       "      <th>11</th>\n",
       "      <td>Codeup Acquires Rackspace Cloud Academy!</td>\n",
       "      <td>Apr 16, 2021</td>\n",
       "      <td>We are thrilled to officially announce Codeup’...</td>\n",
       "    </tr>\n",
       "    <tr>\n",
       "      <th>12</th>\n",
       "      <td>What are the Best Jobs in 2021?</td>\n",
       "      <td>Apr 13, 2021</td>\n",
       "      <td>Every year, Glassdoor names the 50 Best Jobs i...</td>\n",
       "    </tr>\n",
       "    <tr>\n",
       "      <th>13</th>\n",
       "      <td>Meet our new VP of Delivery, Marty Sixkiller!</td>\n",
       "      <td>Apr 12, 2021</td>\n",
       "      <td>Marty Sixkiller will be joining Codeup as the ...</td>\n",
       "    </tr>\n",
       "    <tr>\n",
       "      <th>14</th>\n",
       "      <td>Start a New Career with VET TEC!</td>\n",
       "      <td>Apr 5, 2021</td>\n",
       "      <td>Are you a veteran looking for your next career...</td>\n",
       "    </tr>\n",
       "  </tbody>\n",
       "</table>\n",
       "</div>"
      ],
      "text/plain": [
       "                                                title     published  \\\n",
       "0                       Boris – Behind the Billboards   Oct 3, 2021   \n",
       "1   Is Codeup the Best Bootcamp in San Antonio…or ...  Sep 16, 2021   \n",
       "2            Codeup Launches First Podcast: Hire Tech  Aug 25, 2021   \n",
       "3         Why Should I Become a System Administrator?  Aug 23, 2021   \n",
       "4         Announcing our Candidacy for Accreditation!  Jun 30, 2021   \n",
       "5   Codeup Takes Over More of the Historic Vogue B...  Jun 21, 2021   \n",
       "6   Inclusion at Codeup During Pride Month (and Al...   Jun 4, 2021   \n",
       "7   Why You Need the Best Coding Bootcamp Instructors  May 21, 2021   \n",
       "8          Meet the new Codeup COO, Stephen Noteboom!   May 3, 2021   \n",
       "9            How I Went From Codeup to Business Owner  Apr 30, 2021   \n",
       "10                                Coding is for Women  Apr 27, 2021   \n",
       "11           Codeup Acquires Rackspace Cloud Academy!  Apr 16, 2021   \n",
       "12                    What are the Best Jobs in 2021?  Apr 13, 2021   \n",
       "13      Meet our new VP of Delivery, Marty Sixkiller!  Apr 12, 2021   \n",
       "14                   Start a New Career with VET TEC!   Apr 5, 2021   \n",
       "\n",
       "                                              content  \n",
       "0                                                      \n",
       "1   Looking for the best data science bootcamp in ...  \n",
       "2   Any podcast enthusiasts out there? We are plea...  \n",
       "3   With so many tech careers in demand, why choos...  \n",
       "4   Did you know that even though we’re an indepen...  \n",
       "5   Codeup is moving into another floor of our His...  \n",
       "6   Happy Pride Month! Pride Month is a dedicated ...  \n",
       "7   One of the many reasons students love Codeup i...  \n",
       "8   A big welcome to Stephen Noteboom, who will be...  \n",
       "9   Out of college, I was a bit of a mess. That’s ...  \n",
       "10  In a world where 91.5% of developers are male,...  \n",
       "11  We are thrilled to officially announce Codeup’...  \n",
       "12  Every year, Glassdoor names the 50 Best Jobs i...  \n",
       "13  Marty Sixkiller will be joining Codeup as the ...  \n",
       "14  Are you a veteran looking for your next career...  "
      ]
     },
     "execution_count": 42,
     "metadata": {},
     "output_type": "execute_result"
    }
   ],
   "source": [
    "codeup_df = acquire.get_blog_articles()\n",
    "codeup_df"
   ]
  },
  {
   "cell_type": "markdown",
   "id": "5cc23abc-0d2f-4db1-be62-652bd2e45dad",
   "metadata": {},
   "source": [
    "## 8. For each dataframe, produce the following columns:\n",
    "\n",
    "- title to hold the title\n",
    "- original to hold the original article/post content\n",
    "- clean to hold the normalized and tokenized original with the stopwords removed.\n",
    "- stemmed to hold the stemmed version of the cleaned data.\n",
    "- lemmatized to hold the lemmatized version of the cleaned data."
   ]
  },
  {
   "cell_type": "code",
   "execution_count": 43,
   "id": "11b34889-e312-460d-82fb-25513579a395",
   "metadata": {},
   "outputs": [],
   "source": [
    "def prep_article_data(df, column, extra_words=[], exclude_words=[]):\n",
    "    '''\n",
    "    This function take in a df and the string name for a text column with \n",
    "    option to pass lists for extra_words and exclude_words and\n",
    "    returns a df with the text article title, original text, stemmed text,\n",
    "    lemmatized text, cleaned, tokenized, & lemmatized text with stopwords removed.\n",
    "    '''\n",
    "    df['clean'] = df[column].apply(basic_clean)\\\n",
    "                            .apply(tokenize)\\\n",
    "                            .apply(remove_stopwords, \n",
    "                                   extra_words=extra_words, \n",
    "                                   exclude_words=exclude_words)\n",
    "    \n",
    "    df['stemmed'] = df[column].apply(basic_clean)\\\n",
    "                            .apply(tokenize)\\\n",
    "                            .apply(stem)\\\n",
    "                            .apply(remove_stopwords, \n",
    "                                   extra_words=extra_words, \n",
    "                                   exclude_words=exclude_words)\n",
    "    \n",
    "    df['lemmatized'] = df[column].apply(basic_clean)\\\n",
    "                            .apply(tokenize)\\\n",
    "                            .apply(lemmatize)\\\n",
    "                            .apply(remove_stopwords, \n",
    "                                   extra_words=extra_words, \n",
    "                                   exclude_words=exclude_words)\n",
    "    \n",
    "    return df[['title', column,'clean', 'stemmed', 'lemmatized']]"
   ]
  },
  {
   "cell_type": "code",
   "execution_count": 44,
   "id": "9b8738a4-2d34-43cf-8e56-119a8c4aa39e",
   "metadata": {},
   "outputs": [
    {
     "data": {
      "text/html": [
       "<div>\n",
       "<style scoped>\n",
       "    .dataframe tbody tr th:only-of-type {\n",
       "        vertical-align: middle;\n",
       "    }\n",
       "\n",
       "    .dataframe tbody tr th {\n",
       "        vertical-align: top;\n",
       "    }\n",
       "\n",
       "    .dataframe thead th {\n",
       "        text-align: right;\n",
       "    }\n",
       "</style>\n",
       "<table border=\"1\" class=\"dataframe\">\n",
       "  <thead>\n",
       "    <tr style=\"text-align: right;\">\n",
       "      <th></th>\n",
       "      <th>title</th>\n",
       "      <th>content</th>\n",
       "      <th>clean</th>\n",
       "      <th>stemmed</th>\n",
       "      <th>lemmatized</th>\n",
       "    </tr>\n",
       "  </thead>\n",
       "  <tbody>\n",
       "    <tr>\n",
       "      <th>0</th>\n",
       "      <td>Zydus Cadila to reduce price of its COVID-19 v...</td>\n",
       "      <td>Gujarat-based pharma company Zydus Cadila has ...</td>\n",
       "      <td>gujaratbased pharma company zydus cadila agree...</td>\n",
       "      <td>gujaratbas pharma compani zydu cadila agre bri...</td>\n",
       "      <td>gujaratbased pharma company zydus cadila agree...</td>\n",
       "    </tr>\n",
       "    <tr>\n",
       "      <th>1</th>\n",
       "      <td>Bill Gates celebrates his 66th birthday with J...</td>\n",
       "      <td>Microsoft Co-founder Bill Gates, who turned 66...</td>\n",
       "      <td>microsoft cofounder bill gates turned 66 octob...</td>\n",
       "      <td>microsoft cofound bill gate turn 66 octob 28 r...</td>\n",
       "      <td>microsoft cofounder bill gate turned 66 octobe...</td>\n",
       "    </tr>\n",
       "    <tr>\n",
       "      <th>2</th>\n",
       "      <td>Hebrew speakers mock Facebook's new name 'Meta...</td>\n",
       "      <td>Social media users in Israel are mocking Faceb...</td>\n",
       "      <td>social media users israel mocking facebook ' n...</td>\n",
       "      <td>social media user israel mock facebook ' new c...</td>\n",
       "      <td>social medium user israel mocking facebook ' n...</td>\n",
       "    </tr>\n",
       "    <tr>\n",
       "      <th>3</th>\n",
       "      <td>Mumbai Police shares meme on Facebook name cha...</td>\n",
       "      <td>After Facebook changed its company name to 'Me...</td>\n",
       "      <td>facebook changed company name ' meta ' mumbai ...</td>\n",
       "      <td>facebook chang compani name ' meta ' mumbai po...</td>\n",
       "      <td>facebook changed company name ' meta ' mumbai ...</td>\n",
       "    </tr>\n",
       "    <tr>\n",
       "      <th>4</th>\n",
       "      <td>If UN can tell how $6 bn will solve world hung...</td>\n",
       "      <td>Tesla CEO Elon Musk said if the UN's World Foo...</td>\n",
       "      <td>tesla ceo elon musk said un ' world food progr...</td>\n",
       "      <td>tesla ceo elon musk said un ' world food progr...</td>\n",
       "      <td>tesla ceo elon musk said un ' world food progr...</td>\n",
       "    </tr>\n",
       "  </tbody>\n",
       "</table>\n",
       "</div>"
      ],
      "text/plain": [
       "                                               title  \\\n",
       "0  Zydus Cadila to reduce price of its COVID-19 v...   \n",
       "1  Bill Gates celebrates his 66th birthday with J...   \n",
       "2  Hebrew speakers mock Facebook's new name 'Meta...   \n",
       "3  Mumbai Police shares meme on Facebook name cha...   \n",
       "4  If UN can tell how $6 bn will solve world hung...   \n",
       "\n",
       "                                             content  \\\n",
       "0  Gujarat-based pharma company Zydus Cadila has ...   \n",
       "1  Microsoft Co-founder Bill Gates, who turned 66...   \n",
       "2  Social media users in Israel are mocking Faceb...   \n",
       "3  After Facebook changed its company name to 'Me...   \n",
       "4  Tesla CEO Elon Musk said if the UN's World Foo...   \n",
       "\n",
       "                                               clean  \\\n",
       "0  gujaratbased pharma company zydus cadila agree...   \n",
       "1  microsoft cofounder bill gates turned 66 octob...   \n",
       "2  social media users israel mocking facebook ' n...   \n",
       "3  facebook changed company name ' meta ' mumbai ...   \n",
       "4  tesla ceo elon musk said un ' world food progr...   \n",
       "\n",
       "                                             stemmed  \\\n",
       "0  gujaratbas pharma compani zydu cadila agre bri...   \n",
       "1  microsoft cofound bill gate turn 66 octob 28 r...   \n",
       "2  social media user israel mock facebook ' new c...   \n",
       "3  facebook chang compani name ' meta ' mumbai po...   \n",
       "4  tesla ceo elon musk said un ' world food progr...   \n",
       "\n",
       "                                          lemmatized  \n",
       "0  gujaratbased pharma company zydus cadila agree...  \n",
       "1  microsoft cofounder bill gate turned 66 octobe...  \n",
       "2  social medium user israel mocking facebook ' n...  \n",
       "3  facebook changed company name ' meta ' mumbai ...  \n",
       "4  tesla ceo elon musk said un ' world food progr...  "
      ]
     },
     "execution_count": 44,
     "metadata": {},
     "output_type": "execute_result"
    }
   ],
   "source": [
    "# use the function defined above for news_df's content column.\n",
    "\n",
    "prep_article_data(news_df, 'content', extra_words = ['ha'], exclude_words = ['no']).head()"
   ]
  },
  {
   "cell_type": "code",
   "execution_count": 45,
   "id": "543b4de0-ea18-4927-8539-15147a795fb2",
   "metadata": {},
   "outputs": [
    {
     "data": {
      "text/html": [
       "<div>\n",
       "<style scoped>\n",
       "    .dataframe tbody tr th:only-of-type {\n",
       "        vertical-align: middle;\n",
       "    }\n",
       "\n",
       "    .dataframe tbody tr th {\n",
       "        vertical-align: top;\n",
       "    }\n",
       "\n",
       "    .dataframe thead th {\n",
       "        text-align: right;\n",
       "    }\n",
       "</style>\n",
       "<table border=\"1\" class=\"dataframe\">\n",
       "  <thead>\n",
       "    <tr style=\"text-align: right;\">\n",
       "      <th></th>\n",
       "      <th>title</th>\n",
       "      <th>content</th>\n",
       "      <th>clean</th>\n",
       "      <th>stemmed</th>\n",
       "      <th>lemmatized</th>\n",
       "    </tr>\n",
       "  </thead>\n",
       "  <tbody>\n",
       "    <tr>\n",
       "      <th>0</th>\n",
       "      <td>Boris – Behind the Billboards</td>\n",
       "      <td></td>\n",
       "      <td></td>\n",
       "      <td></td>\n",
       "      <td></td>\n",
       "    </tr>\n",
       "    <tr>\n",
       "      <th>1</th>\n",
       "      <td>Is Codeup the Best Bootcamp in San Antonio…or ...</td>\n",
       "      <td>Looking for the best data science bootcamp in ...</td>\n",
       "      <td>looking best data science bootcamp world best ...</td>\n",
       "      <td>look best data scienc bootcamp world best code...</td>\n",
       "      <td>looking best data science bootcamp world best ...</td>\n",
       "    </tr>\n",
       "    <tr>\n",
       "      <th>2</th>\n",
       "      <td>Codeup Launches First Podcast: Hire Tech</td>\n",
       "      <td>Any podcast enthusiasts out there? We are plea...</td>\n",
       "      <td>podcast enthusiasts pleased announce release c...</td>\n",
       "      <td>ani podcast enthusiast pleas announc releas co...</td>\n",
       "      <td>podcast enthusiast pleased announce release co...</td>\n",
       "    </tr>\n",
       "    <tr>\n",
       "      <th>3</th>\n",
       "      <td>Why Should I Become a System Administrator?</td>\n",
       "      <td>With so many tech careers in demand, why choos...</td>\n",
       "      <td>many tech careers demand choose system adminis...</td>\n",
       "      <td>mani tech career demand whi choos system admin...</td>\n",
       "      <td>many tech career demand choose system administ...</td>\n",
       "    </tr>\n",
       "    <tr>\n",
       "      <th>4</th>\n",
       "      <td>Announcing our Candidacy for Accreditation!</td>\n",
       "      <td>Did you know that even though we’re an indepen...</td>\n",
       "      <td>know even though independent school multiple r...</td>\n",
       "      <td>know even though independ school multipl regul...</td>\n",
       "      <td>know even though independent school multiple r...</td>\n",
       "    </tr>\n",
       "  </tbody>\n",
       "</table>\n",
       "</div>"
      ],
      "text/plain": [
       "                                               title  \\\n",
       "0                      Boris – Behind the Billboards   \n",
       "1  Is Codeup the Best Bootcamp in San Antonio…or ...   \n",
       "2           Codeup Launches First Podcast: Hire Tech   \n",
       "3        Why Should I Become a System Administrator?   \n",
       "4        Announcing our Candidacy for Accreditation!   \n",
       "\n",
       "                                             content  \\\n",
       "0                                                      \n",
       "1  Looking for the best data science bootcamp in ...   \n",
       "2  Any podcast enthusiasts out there? We are plea...   \n",
       "3  With so many tech careers in demand, why choos...   \n",
       "4  Did you know that even though we’re an indepen...   \n",
       "\n",
       "                                               clean  \\\n",
       "0                                                      \n",
       "1  looking best data science bootcamp world best ...   \n",
       "2  podcast enthusiasts pleased announce release c...   \n",
       "3  many tech careers demand choose system adminis...   \n",
       "4  know even though independent school multiple r...   \n",
       "\n",
       "                                             stemmed  \\\n",
       "0                                                      \n",
       "1  look best data scienc bootcamp world best code...   \n",
       "2  ani podcast enthusiast pleas announc releas co...   \n",
       "3  mani tech career demand whi choos system admin...   \n",
       "4  know even though independ school multipl regul...   \n",
       "\n",
       "                                          lemmatized  \n",
       "0                                                     \n",
       "1  looking best data science bootcamp world best ...  \n",
       "2  podcast enthusiast pleased announce release co...  \n",
       "3  many tech career demand choose system administ...  \n",
       "4  know even though independent school multiple r...  "
      ]
     },
     "execution_count": 45,
     "metadata": {},
     "output_type": "execute_result"
    }
   ],
   "source": [
    "# use the function defined above for codeup_df's content column.\n",
    "\n",
    "prep_article_data(codeup_df, 'content', extra_words = ['ha'], exclude_words = ['no']).head()"
   ]
  },
  {
   "cell_type": "markdown",
   "id": "ee195740-447d-48df-bed6-a036e3b57da6",
   "metadata": {},
   "source": [
    "## 9. Ask yourself:\n",
    "\n",
    "- If your corpus is 493KB, would you prefer to use stemmed or lemmatized text?\n",
    "   - Since this corpus is small, I would prefer to use the lemmatized text\n",
    "- If your corpus is 25MB, would you prefer to use stemmed or lemmatized text?\n",
    "   - This corpus ia a bit larger but not too large, would perfer to use the lemmatized text.\n",
    "- If your corpus is 200TB of text and you're charged by the megabyte for your hosted computational resources, would you prefer to use stemmed or lemmatized text?\n",
    "   - This corpus is huge, stemmed text would be the way to go and be faster"
   ]
  },
  {
   "cell_type": "code",
   "execution_count": null,
   "id": "c67712b4-356f-4a59-ab7b-5b65e127a0a2",
   "metadata": {},
   "outputs": [],
   "source": []
  }
 ],
 "metadata": {
  "kernelspec": {
   "display_name": "Python 3.8.8 64-bit ('base': conda)",
   "language": "python",
   "name": "python388jvsc74a57bd0b64057e63add2b45b1ffc7eab9b09c8889b419c878e2fdf0d08f837f0fc857a7"
  },
  "language_info": {
   "codemirror_mode": {
    "name": "ipython",
    "version": 3
   },
   "file_extension": ".py",
   "mimetype": "text/x-python",
   "name": "python",
   "nbconvert_exporter": "python",
   "pygments_lexer": "ipython3",
   "version": "3.8.8"
  }
 },
 "nbformat": 4,
 "nbformat_minor": 5
}
