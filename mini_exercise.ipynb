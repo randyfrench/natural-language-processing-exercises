{
 "cells": [
  {
   "cell_type": "code",
   "execution_count": 1,
   "id": "26afc057-725d-4403-a536-dbe02c1beca7",
   "metadata": {},
   "outputs": [],
   "source": [
    "import requests\n",
    "from bs4 import BeautifulSoup\n",
    "import pandas as pd\n",
    "from requests import get\n",
    "import re"
   ]
  },
  {
   "cell_type": "markdown",
   "id": "60da8514-2184-41fc-a9b6-ab7d6639710e",
   "metadata": {},
   "source": [
    "## Web Scraping Mini-Exercise\n",
    "From web-scraping demo"
   ]
  },
  {
   "cell_type": "code",
   "execution_count": 2,
   "id": "f31dfbff-e253-4973-bc7a-f70868bee0cd",
   "metadata": {},
   "outputs": [],
   "source": [
    "response = requests.get('https://web-scraping-demo.zgulde.net/people', headers={'user-agent' : 'Codeup DS Germain'})"
   ]
  },
  {
   "cell_type": "code",
   "execution_count": 3,
   "id": "2dbbe275-8470-4938-8a88-a0e63e9d49d4",
   "metadata": {},
   "outputs": [],
   "source": [
    "soup = BeautifulSoup(response.text)"
   ]
  },
  {
   "cell_type": "code",
   "execution_count": 4,
   "id": "3fd45ef7-f735-4e44-b8e1-3ca5ada55f3a",
   "metadata": {},
   "outputs": [
    {
     "data": {
      "text/plain": [
       "<!DOCTYPE html>\n",
       "<html lang=\"en\">\n",
       "<head>\n",
       "<meta charset=\"utf-8\"/>\n",
       "<meta content=\"IE=edge\" http-equiv=\"X-UA-Compatible\"/>\n",
       "<meta content=\"width=device-width, initial-scale=1.0\" name=\"viewport\"/>\n",
       "<title>Example People Page</title>\n",
       "<link href=\"https://unpkg.com/tailwindcss@^2/dist/tailwind.min.css\" rel=\"stylesheet\"/>\n",
       "<link href=\"https://cdn.jsdelivr.net/npm/bootstrap-icons@1.4.1/font/bootstrap-icons.css\" rel=\"stylesheet\"/>\n",
       "</head>\n",
       "<body class=\"mx-auto max-w-screen-lg pb-32\">\n",
       "<h1 class=\"my-5 text-4xl text-center\">People</h1>\n",
       "<div class=\"my-5 text-red-800 px-5 py-3 bg-red-100 font-bold\">\n",
       "<p>\n",
       "<i class=\"bi bi-exclamation-circle text-xl\"></i>\n",
       "        All data on this page is strictly for demonstration purposes and fake.\n",
       "    </p>\n",
       "</div>\n",
       "<div class=\"grid grid-cols-2 gap-x-12 gap-y-16\" id=\"people\">\n",
       "<div class=\"person border rounded px-3 py-5 grid grid-cols-2 gap-x-3 bg-purple-50 hover:shadow-lg transition duration-500\">\n",
       "<h2 class=\"text-2xl text-purple-800 name col-span-full border-b\">Charles Mcdonald</h2>\n",
       "<p class=\"quote col-span-full px-5 py-5 text-center text-gray-500\">\n",
       "            \"Expanded content-based Local Area Network\"\n",
       "        </p>\n",
       "<div class=\"grid grid-cols-9\">\n",
       "<i class=\"bi bi-envelope-fill text-purple-800\"></i>\n",
       "<p class=\"email col-span-8\">garrisonrichard@gmail.com</p>\n",
       "<i class=\"bi bi-telephone-fill text-purple-800\"></i>\n",
       "<p class=\"phone col-span-8\">001-145-217-4207x81992</p>\n",
       "</div>\n",
       "<div class=\"address grid grid-cols-9\">\n",
       "<i class=\"bi bi-geo-fill text-purple-800\"></i>\n",
       "<p class=\"col-span-8\">\n",
       "                598 Stephen Alley Suite 387 <br/>\n",
       "                South Phillipview, VA 65842\n",
       "            </p>\n",
       "</div>\n",
       "</div>\n",
       "<div class=\"person border rounded px-3 py-5 grid grid-cols-2 gap-x-3 bg-purple-50 hover:shadow-lg transition duration-500\">\n",
       "<h2 class=\"text-2xl text-purple-800 name col-span-full border-b\">Samantha Hogan</h2>\n",
       "<p class=\"quote col-span-full px-5 py-5 text-center text-gray-500\">\n",
       "            \"Open-architected multi-state archive\"\n",
       "        </p>\n",
       "<div class=\"grid grid-cols-9\">\n",
       "<i class=\"bi bi-envelope-fill text-purple-800\"></i>\n",
       "<p class=\"email col-span-8\">juanrichards@evans-rojas.com</p>\n",
       "<i class=\"bi bi-telephone-fill text-purple-800\"></i>\n",
       "<p class=\"phone col-span-8\">+1-426-823-4555x6193</p>\n",
       "</div>\n",
       "<div class=\"address grid grid-cols-9\">\n",
       "<i class=\"bi bi-geo-fill text-purple-800\"></i>\n",
       "<p class=\"col-span-8\">\n",
       "                93715 Stephanie Bridge <br/>\n",
       "                New Meganmouth, ID 46069\n",
       "            </p>\n",
       "</div>\n",
       "</div>\n",
       "<div class=\"person border rounded px-3 py-5 grid grid-cols-2 gap-x-3 bg-purple-50 hover:shadow-lg transition duration-500\">\n",
       "<h2 class=\"text-2xl text-purple-800 name col-span-full border-b\">William Henry</h2>\n",
       "<p class=\"quote col-span-full px-5 py-5 text-center text-gray-500\">\n",
       "            \"Switchable coherent workforce\"\n",
       "        </p>\n",
       "<div class=\"grid grid-cols-9\">\n",
       "<i class=\"bi bi-envelope-fill text-purple-800\"></i>\n",
       "<p class=\"email col-span-8\">lrodriguez@gmail.com</p>\n",
       "<i class=\"bi bi-telephone-fill text-purple-800\"></i>\n",
       "<p class=\"phone col-span-8\">+1-098-557-8054</p>\n",
       "</div>\n",
       "<div class=\"address grid grid-cols-9\">\n",
       "<i class=\"bi bi-geo-fill text-purple-800\"></i>\n",
       "<p class=\"col-span-8\">\n",
       "                7709 Andrew Brook <br/>\n",
       "                Erinville, MN 23553\n",
       "            </p>\n",
       "</div>\n",
       "</div>\n",
       "<div class=\"person border rounded px-3 py-5 grid grid-cols-2 gap-x-3 bg-purple-50 hover:shadow-lg transition duration-500\">\n",
       "<h2 class=\"text-2xl text-purple-800 name col-span-full border-b\">Jessica Alvarado</h2>\n",
       "<p class=\"quote col-span-full px-5 py-5 text-center text-gray-500\">\n",
       "            \"Quality-focused solution-oriented service-desk\"\n",
       "        </p>\n",
       "<div class=\"grid grid-cols-9\">\n",
       "<i class=\"bi bi-envelope-fill text-purple-800\"></i>\n",
       "<p class=\"email col-span-8\">howardlisa@miller.com</p>\n",
       "<i class=\"bi bi-telephone-fill text-purple-800\"></i>\n",
       "<p class=\"phone col-span-8\">208.007.5269</p>\n",
       "</div>\n",
       "<div class=\"address grid grid-cols-9\">\n",
       "<i class=\"bi bi-geo-fill text-purple-800\"></i>\n",
       "<p class=\"col-span-8\">\n",
       "                23076 Adam Flat Apt. 280 <br/>\n",
       "                Melissaside, DE 40528\n",
       "            </p>\n",
       "</div>\n",
       "</div>\n",
       "<div class=\"person border rounded px-3 py-5 grid grid-cols-2 gap-x-3 bg-purple-50 hover:shadow-lg transition duration-500\">\n",
       "<h2 class=\"text-2xl text-purple-800 name col-span-full border-b\">Jose Figueroa</h2>\n",
       "<p class=\"quote col-span-full px-5 py-5 text-center text-gray-500\">\n",
       "            \"Mandatory object-oriented time-frame\"\n",
       "        </p>\n",
       "<div class=\"grid grid-cols-9\">\n",
       "<i class=\"bi bi-envelope-fill text-purple-800\"></i>\n",
       "<p class=\"email col-span-8\">rickwalters@yahoo.com</p>\n",
       "<i class=\"bi bi-telephone-fill text-purple-800\"></i>\n",
       "<p class=\"phone col-span-8\">771.235.3576</p>\n",
       "</div>\n",
       "<div class=\"address grid grid-cols-9\">\n",
       "<i class=\"bi bi-geo-fill text-purple-800\"></i>\n",
       "<p class=\"col-span-8\">\n",
       "                996 Krista Fords Suite 519 <br/>\n",
       "                Ryanview, IA 44124\n",
       "            </p>\n",
       "</div>\n",
       "</div>\n",
       "<div class=\"person border rounded px-3 py-5 grid grid-cols-2 gap-x-3 bg-purple-50 hover:shadow-lg transition duration-500\">\n",
       "<h2 class=\"text-2xl text-purple-800 name col-span-full border-b\">Michael Silva PhD</h2>\n",
       "<p class=\"quote col-span-full px-5 py-5 text-center text-gray-500\">\n",
       "            \"Streamlined clear-thinking capability\"\n",
       "        </p>\n",
       "<div class=\"grid grid-cols-9\">\n",
       "<i class=\"bi bi-envelope-fill text-purple-800\"></i>\n",
       "<p class=\"email col-span-8\">stephen91@gmail.com</p>\n",
       "<i class=\"bi bi-telephone-fill text-purple-800\"></i>\n",
       "<p class=\"phone col-span-8\">852.222.6903x0688</p>\n",
       "</div>\n",
       "<div class=\"address grid grid-cols-9\">\n",
       "<i class=\"bi bi-geo-fill text-purple-800\"></i>\n",
       "<p class=\"col-span-8\">\n",
       "                36027 Wyatt Mountain Suite 922 <br/>\n",
       "                East Bryanburgh, LA 42397\n",
       "            </p>\n",
       "</div>\n",
       "</div>\n",
       "<div class=\"person border rounded px-3 py-5 grid grid-cols-2 gap-x-3 bg-purple-50 hover:shadow-lg transition duration-500\">\n",
       "<h2 class=\"text-2xl text-purple-800 name col-span-full border-b\">Timothy Brooks</h2>\n",
       "<p class=\"quote col-span-full px-5 py-5 text-center text-gray-500\">\n",
       "            \"Devolved object-oriented middleware\"\n",
       "        </p>\n",
       "<div class=\"grid grid-cols-9\">\n",
       "<i class=\"bi bi-envelope-fill text-purple-800\"></i>\n",
       "<p class=\"email col-span-8\">stephen71@weaver.com</p>\n",
       "<i class=\"bi bi-telephone-fill text-purple-800\"></i>\n",
       "<p class=\"phone col-span-8\">889.341.3917</p>\n",
       "</div>\n",
       "<div class=\"address grid grid-cols-9\">\n",
       "<i class=\"bi bi-geo-fill text-purple-800\"></i>\n",
       "<p class=\"col-span-8\">\n",
       "                57678 William Greens <br/>\n",
       "                West Larryland, UT 78213\n",
       "            </p>\n",
       "</div>\n",
       "</div>\n",
       "<div class=\"person border rounded px-3 py-5 grid grid-cols-2 gap-x-3 bg-purple-50 hover:shadow-lg transition duration-500\">\n",
       "<h2 class=\"text-2xl text-purple-800 name col-span-full border-b\">Stephanie Hernandez</h2>\n",
       "<p class=\"quote col-span-full px-5 py-5 text-center text-gray-500\">\n",
       "            \"Function-based bandwidth-monitored functionalities\"\n",
       "        </p>\n",
       "<div class=\"grid grid-cols-9\">\n",
       "<i class=\"bi bi-envelope-fill text-purple-800\"></i>\n",
       "<p class=\"email col-span-8\">sarah02@yahoo.com</p>\n",
       "<i class=\"bi bi-telephone-fill text-purple-800\"></i>\n",
       "<p class=\"phone col-span-8\">497.173.7151x219</p>\n",
       "</div>\n",
       "<div class=\"address grid grid-cols-9\">\n",
       "<i class=\"bi bi-geo-fill text-purple-800\"></i>\n",
       "<p class=\"col-span-8\">\n",
       "                51208 Sullivan Center <br/>\n",
       "                Kristenton, IA 82914\n",
       "            </p>\n",
       "</div>\n",
       "</div>\n",
       "<div class=\"person border rounded px-3 py-5 grid grid-cols-2 gap-x-3 bg-purple-50 hover:shadow-lg transition duration-500\">\n",
       "<h2 class=\"text-2xl text-purple-800 name col-span-full border-b\">Taylor Hall</h2>\n",
       "<p class=\"quote col-span-full px-5 py-5 text-center text-gray-500\">\n",
       "            \"Multi-layered uniform open system\"\n",
       "        </p>\n",
       "<div class=\"grid grid-cols-9\">\n",
       "<i class=\"bi bi-envelope-fill text-purple-800\"></i>\n",
       "<p class=\"email col-span-8\">ryan67@martin-cooke.com</p>\n",
       "<i class=\"bi bi-telephone-fill text-purple-800\"></i>\n",
       "<p class=\"phone col-span-8\">(160)149-7534x31358</p>\n",
       "</div>\n",
       "<div class=\"address grid grid-cols-9\">\n",
       "<i class=\"bi bi-geo-fill text-purple-800\"></i>\n",
       "<p class=\"col-span-8\">\n",
       "                181 Baxter Freeway <br/>\n",
       "                Brewerville, MA 07700\n",
       "            </p>\n",
       "</div>\n",
       "</div>\n",
       "<div class=\"person border rounded px-3 py-5 grid grid-cols-2 gap-x-3 bg-purple-50 hover:shadow-lg transition duration-500\">\n",
       "<h2 class=\"text-2xl text-purple-800 name col-span-full border-b\">Amanda Boyd</h2>\n",
       "<p class=\"quote col-span-full px-5 py-5 text-center text-gray-500\">\n",
       "            \"Operative homogeneous forecast\"\n",
       "        </p>\n",
       "<div class=\"grid grid-cols-9\">\n",
       "<i class=\"bi bi-envelope-fill text-purple-800\"></i>\n",
       "<p class=\"email col-span-8\">sarahblair@yahoo.com</p>\n",
       "<i class=\"bi bi-telephone-fill text-purple-800\"></i>\n",
       "<p class=\"phone col-span-8\">667-875-6597x084</p>\n",
       "</div>\n",
       "<div class=\"address grid grid-cols-9\">\n",
       "<i class=\"bi bi-geo-fill text-purple-800\"></i>\n",
       "<p class=\"col-span-8\">\n",
       "                24859 Coleman Road <br/>\n",
       "                Port John, AZ 85903\n",
       "            </p>\n",
       "</div>\n",
       "</div>\n",
       "</div>\n",
       "</body>\n",
       "</html>"
      ]
     },
     "execution_count": 4,
     "metadata": {},
     "output_type": "execute_result"
    }
   ],
   "source": [
    "soup"
   ]
  },
  {
   "cell_type": "code",
   "execution_count": 5,
   "id": "6889d94d-d6cd-4288-98b2-b9fe96b89df6",
   "metadata": {},
   "outputs": [],
   "source": [
    "people = soup.select('.person')"
   ]
  },
  {
   "cell_type": "code",
   "execution_count": 6,
   "id": "d653d7bf-10c2-4648-9a97-b6afe7859bc7",
   "metadata": {},
   "outputs": [
    {
     "data": {
      "text/plain": [
       "10"
      ]
     },
     "execution_count": 6,
     "metadata": {},
     "output_type": "execute_result"
    }
   ],
   "source": [
    "len(people)"
   ]
  },
  {
   "cell_type": "code",
   "execution_count": 7,
   "id": "2829ef43-c780-4188-9d25-867934cc04a5",
   "metadata": {},
   "outputs": [],
   "source": [
    "person = people[0]"
   ]
  },
  {
   "cell_type": "code",
   "execution_count": 8,
   "id": "a3669556-845a-4aea-8595-6c07a5da030e",
   "metadata": {},
   "outputs": [
    {
     "data": {
      "text/plain": [
       "'Charles Mcdonald'"
      ]
     },
     "execution_count": 8,
     "metadata": {},
     "output_type": "execute_result"
    }
   ],
   "source": [
    " # name\n",
    "person.h2.text"
   ]
  },
  {
   "cell_type": "code",
   "execution_count": 9,
   "id": "20e373e6-69fa-474c-94ba-62c9b053cd5c",
   "metadata": {},
   "outputs": [
    {
     "data": {
      "text/plain": [
       "'\"Expanded content-based Local Area Network\"'"
      ]
     },
     "execution_count": 9,
     "metadata": {},
     "output_type": "execute_result"
    }
   ],
   "source": [
    "# quote\n",
    "person.select('.quote')[0].text.strip()\n",
    "\n",
    "# .p finds the first p element; or element with a tag name of \"p\"\n",
    "# person.p.text.strip()"
   ]
  },
  {
   "cell_type": "code",
   "execution_count": 10,
   "id": "85280780-b780-441e-96e4-2af4b5bb97d9",
   "metadata": {},
   "outputs": [
    {
     "data": {
      "text/plain": [
       "'garrisonrichard@gmail.com'"
      ]
     },
     "execution_count": 10,
     "metadata": {},
     "output_type": "execute_result"
    }
   ],
   "source": [
    "# email\n",
    "person.select('.email')[0].text"
   ]
  },
  {
   "cell_type": "code",
   "execution_count": 11,
   "id": "bee746db-a854-4f2b-afec-3c2c5d562c01",
   "metadata": {},
   "outputs": [
    {
     "data": {
      "text/plain": [
       "'001-145-217-4207x81992'"
      ]
     },
     "execution_count": 11,
     "metadata": {},
     "output_type": "execute_result"
    }
   ],
   "source": [
    "# phone\n",
    "person.select('.phone')[0].text\n"
   ]
  },
  {
   "cell_type": "code",
   "execution_count": 14,
   "id": "01778b14-6a3e-427f-bb95-a99fd8109443",
   "metadata": {},
   "outputs": [
    {
     "data": {
      "text/plain": [
       "'598 Stephen Alley Suite 387 \\n                South Phillipview, VA 65842'"
      ]
     },
     "execution_count": 14,
     "metadata": {},
     "output_type": "execute_result"
    }
   ],
   "source": [
    "address = person.select('.address')[0].text.strip()\n",
    "address"
   ]
  },
  {
   "cell_type": "code",
   "execution_count": 15,
   "id": "9b831a09-a917-40b5-8ee9-49d40c9ea370",
   "metadata": {},
   "outputs": [
    {
     "data": {
      "text/plain": [
       "'598 Stephen Alley Suite 387 South Phillipview, VA 65842'"
      ]
     },
     "execution_count": 15,
     "metadata": {},
     "output_type": "execute_result"
    }
   ],
   "source": [
    "re.sub(r'\\s{2,}', ' ', address)"
   ]
  },
  {
   "cell_type": "code",
   "execution_count": 17,
   "id": "1da4610c-9623-46f1-8a7f-c7254319ac0d",
   "metadata": {},
   "outputs": [],
   "source": [
    "# Now create a function to do this for all people on the page\n",
    "# return a dictionary that has all the variables in it\n",
    "\n",
    "def parse_person(person):\n",
    "    name = person.h2.text\n",
    "    # .p finds the first p element; or element with a tag name of \"p\"\n",
    "    quote = person.p.text.strip()\n",
    "    # email\n",
    "    email = person.select('.email')[0].text\n",
    "    # phone\n",
    "    phone = person.select('.phone')[0].text\n",
    "    # address\n",
    "    address = person.select('.address')[0].text.strip()\n",
    "    address = re.sub(r'\\s{2,}', ' ', address)\n",
    "    \n",
    "    return {'name': name, 'quote': quote, 'email': email, 'phone': phone, 'address': address}"
   ]
  },
  {
   "cell_type": "code",
   "execution_count": 18,
   "id": "e02b046b-cccc-4def-8c7b-94772eb66849",
   "metadata": {},
   "outputs": [
    {
     "data": {
      "text/html": [
       "<div>\n",
       "<style scoped>\n",
       "    .dataframe tbody tr th:only-of-type {\n",
       "        vertical-align: middle;\n",
       "    }\n",
       "\n",
       "    .dataframe tbody tr th {\n",
       "        vertical-align: top;\n",
       "    }\n",
       "\n",
       "    .dataframe thead th {\n",
       "        text-align: right;\n",
       "    }\n",
       "</style>\n",
       "<table border=\"1\" class=\"dataframe\">\n",
       "  <thead>\n",
       "    <tr style=\"text-align: right;\">\n",
       "      <th></th>\n",
       "      <th>name</th>\n",
       "      <th>quote</th>\n",
       "      <th>email</th>\n",
       "      <th>phone</th>\n",
       "      <th>address</th>\n",
       "    </tr>\n",
       "  </thead>\n",
       "  <tbody>\n",
       "    <tr>\n",
       "      <th>0</th>\n",
       "      <td>Charles Mcdonald</td>\n",
       "      <td>\"Expanded content-based Local Area Network\"</td>\n",
       "      <td>garrisonrichard@gmail.com</td>\n",
       "      <td>001-145-217-4207x81992</td>\n",
       "      <td>598 Stephen Alley Suite 387 South Phillipview,...</td>\n",
       "    </tr>\n",
       "    <tr>\n",
       "      <th>1</th>\n",
       "      <td>Samantha Hogan</td>\n",
       "      <td>\"Open-architected multi-state archive\"</td>\n",
       "      <td>juanrichards@evans-rojas.com</td>\n",
       "      <td>+1-426-823-4555x6193</td>\n",
       "      <td>93715 Stephanie Bridge New Meganmouth, ID 46069</td>\n",
       "    </tr>\n",
       "    <tr>\n",
       "      <th>2</th>\n",
       "      <td>William Henry</td>\n",
       "      <td>\"Switchable coherent workforce\"</td>\n",
       "      <td>lrodriguez@gmail.com</td>\n",
       "      <td>+1-098-557-8054</td>\n",
       "      <td>7709 Andrew Brook Erinville, MN 23553</td>\n",
       "    </tr>\n",
       "    <tr>\n",
       "      <th>3</th>\n",
       "      <td>Jessica Alvarado</td>\n",
       "      <td>\"Quality-focused solution-oriented service-desk\"</td>\n",
       "      <td>howardlisa@miller.com</td>\n",
       "      <td>208.007.5269</td>\n",
       "      <td>23076 Adam Flat Apt. 280 Melissaside, DE 40528</td>\n",
       "    </tr>\n",
       "    <tr>\n",
       "      <th>4</th>\n",
       "      <td>Jose Figueroa</td>\n",
       "      <td>\"Mandatory object-oriented time-frame\"</td>\n",
       "      <td>rickwalters@yahoo.com</td>\n",
       "      <td>771.235.3576</td>\n",
       "      <td>996 Krista Fords Suite 519 Ryanview, IA 44124</td>\n",
       "    </tr>\n",
       "    <tr>\n",
       "      <th>5</th>\n",
       "      <td>Michael Silva PhD</td>\n",
       "      <td>\"Streamlined clear-thinking capability\"</td>\n",
       "      <td>stephen91@gmail.com</td>\n",
       "      <td>852.222.6903x0688</td>\n",
       "      <td>36027 Wyatt Mountain Suite 922 East Bryanburgh...</td>\n",
       "    </tr>\n",
       "    <tr>\n",
       "      <th>6</th>\n",
       "      <td>Timothy Brooks</td>\n",
       "      <td>\"Devolved object-oriented middleware\"</td>\n",
       "      <td>stephen71@weaver.com</td>\n",
       "      <td>889.341.3917</td>\n",
       "      <td>57678 William Greens West Larryland, UT 78213</td>\n",
       "    </tr>\n",
       "    <tr>\n",
       "      <th>7</th>\n",
       "      <td>Stephanie Hernandez</td>\n",
       "      <td>\"Function-based bandwidth-monitored functional...</td>\n",
       "      <td>sarah02@yahoo.com</td>\n",
       "      <td>497.173.7151x219</td>\n",
       "      <td>51208 Sullivan Center Kristenton, IA 82914</td>\n",
       "    </tr>\n",
       "    <tr>\n",
       "      <th>8</th>\n",
       "      <td>Taylor Hall</td>\n",
       "      <td>\"Multi-layered uniform open system\"</td>\n",
       "      <td>ryan67@martin-cooke.com</td>\n",
       "      <td>(160)149-7534x31358</td>\n",
       "      <td>181 Baxter Freeway Brewerville, MA 07700</td>\n",
       "    </tr>\n",
       "    <tr>\n",
       "      <th>9</th>\n",
       "      <td>Amanda Boyd</td>\n",
       "      <td>\"Operative homogeneous forecast\"</td>\n",
       "      <td>sarahblair@yahoo.com</td>\n",
       "      <td>667-875-6597x084</td>\n",
       "      <td>24859 Coleman Road Port John, AZ 85903</td>\n",
       "    </tr>\n",
       "  </tbody>\n",
       "</table>\n",
       "</div>"
      ],
      "text/plain": [
       "                  name                                              quote  \\\n",
       "0     Charles Mcdonald        \"Expanded content-based Local Area Network\"   \n",
       "1       Samantha Hogan             \"Open-architected multi-state archive\"   \n",
       "2        William Henry                    \"Switchable coherent workforce\"   \n",
       "3     Jessica Alvarado   \"Quality-focused solution-oriented service-desk\"   \n",
       "4        Jose Figueroa             \"Mandatory object-oriented time-frame\"   \n",
       "5    Michael Silva PhD            \"Streamlined clear-thinking capability\"   \n",
       "6       Timothy Brooks              \"Devolved object-oriented middleware\"   \n",
       "7  Stephanie Hernandez  \"Function-based bandwidth-monitored functional...   \n",
       "8          Taylor Hall                \"Multi-layered uniform open system\"   \n",
       "9          Amanda Boyd                   \"Operative homogeneous forecast\"   \n",
       "\n",
       "                          email                   phone  \\\n",
       "0     garrisonrichard@gmail.com  001-145-217-4207x81992   \n",
       "1  juanrichards@evans-rojas.com    +1-426-823-4555x6193   \n",
       "2          lrodriguez@gmail.com         +1-098-557-8054   \n",
       "3         howardlisa@miller.com            208.007.5269   \n",
       "4         rickwalters@yahoo.com            771.235.3576   \n",
       "5           stephen91@gmail.com       852.222.6903x0688   \n",
       "6          stephen71@weaver.com            889.341.3917   \n",
       "7             sarah02@yahoo.com        497.173.7151x219   \n",
       "8       ryan67@martin-cooke.com     (160)149-7534x31358   \n",
       "9          sarahblair@yahoo.com        667-875-6597x084   \n",
       "\n",
       "                                             address  \n",
       "0  598 Stephen Alley Suite 387 South Phillipview,...  \n",
       "1    93715 Stephanie Bridge New Meganmouth, ID 46069  \n",
       "2              7709 Andrew Brook Erinville, MN 23553  \n",
       "3     23076 Adam Flat Apt. 280 Melissaside, DE 40528  \n",
       "4      996 Krista Fords Suite 519 Ryanview, IA 44124  \n",
       "5  36027 Wyatt Mountain Suite 922 East Bryanburgh...  \n",
       "6      57678 William Greens West Larryland, UT 78213  \n",
       "7         51208 Sullivan Center Kristenton, IA 82914  \n",
       "8           181 Baxter Freeway Brewerville, MA 07700  \n",
       "9             24859 Coleman Road Port John, AZ 85903  "
      ]
     },
     "execution_count": 18,
     "metadata": {},
     "output_type": "execute_result"
    }
   ],
   "source": [
    "pd.DataFrame([parse_person(person) for person in people])"
   ]
  },
  {
   "cell_type": "code",
   "execution_count": null,
   "id": "eea21487-07c1-4cbc-872f-3f4e07dbefd7",
   "metadata": {},
   "outputs": [],
   "source": [
    "\n"
   ]
  },
  {
   "cell_type": "code",
   "execution_count": null,
   "id": "c93ec219-cb01-4e9b-bf43-ecea30682686",
   "metadata": {},
   "outputs": [],
   "source": []
  }
 ],
 "metadata": {
  "kernelspec": {
   "display_name": "Python 3.8.8 64-bit ('base': conda)",
   "language": "python",
   "name": "python388jvsc74a57bd0b64057e63add2b45b1ffc7eab9b09c8889b419c878e2fdf0d08f837f0fc857a7"
  },
  "language_info": {
   "codemirror_mode": {
    "name": "ipython",
    "version": 3
   },
   "file_extension": ".py",
   "mimetype": "text/x-python",
   "name": "python",
   "nbconvert_exporter": "python",
   "pygments_lexer": "ipython3",
   "version": "3.8.8"
  }
 },
 "nbformat": 4,
 "nbformat_minor": 5
}
