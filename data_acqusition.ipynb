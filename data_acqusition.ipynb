{
 "cells": [
  {
   "cell_type": "code",
   "execution_count": 1,
   "id": "72ebfda4-e26d-4b1b-a83a-7e99512b8a99",
   "metadata": {},
   "outputs": [],
   "source": [
    "import requests\n",
    "from bs4 import BeautifulSoup\n",
    "import pandas as pd\n",
    "from requests import get"
   ]
  },
  {
   "cell_type": "code",
   "execution_count": 2,
   "id": "b258426a-1656-434a-922f-52c3bef6ff95",
   "metadata": {},
   "outputs": [],
   "source": [
    "def parse_news_article(article):\n",
    "    title = article.h2.text\n",
    "    date, author = article.select('.italic')[0].find_all('p')\n",
    "    return {'title': title, 'date': date.text, 'author': author.text}"
   ]
  },
  {
   "cell_type": "code",
   "execution_count": 3,
   "id": "02976a90-572d-4dca-ba9f-a7185f24ba80",
   "metadata": {},
   "outputs": [
    {
     "data": {
      "text/html": [
       "<div>\n",
       "<style scoped>\n",
       "    .dataframe tbody tr th:only-of-type {\n",
       "        vertical-align: middle;\n",
       "    }\n",
       "\n",
       "    .dataframe tbody tr th {\n",
       "        vertical-align: top;\n",
       "    }\n",
       "\n",
       "    .dataframe thead th {\n",
       "        text-align: right;\n",
       "    }\n",
       "</style>\n",
       "<table border=\"1\" class=\"dataframe\">\n",
       "  <thead>\n",
       "    <tr style=\"text-align: right;\">\n",
       "      <th></th>\n",
       "      <th>title</th>\n",
       "      <th>date</th>\n",
       "      <th>author</th>\n",
       "    </tr>\n",
       "  </thead>\n",
       "  <tbody>\n",
       "    <tr>\n",
       "      <th>0</th>\n",
       "      <td>program source great</td>\n",
       "      <td>2019-10-04</td>\n",
       "      <td>By Kari Martinez</td>\n",
       "    </tr>\n",
       "    <tr>\n",
       "      <th>1</th>\n",
       "      <td>population knowledge writer</td>\n",
       "      <td>2007-05-14</td>\n",
       "      <td>By William Mcdonald</td>\n",
       "    </tr>\n",
       "    <tr>\n",
       "      <th>2</th>\n",
       "      <td>religious mean there</td>\n",
       "      <td>1986-01-13</td>\n",
       "      <td>By Christopher Mckenzie</td>\n",
       "    </tr>\n",
       "    <tr>\n",
       "      <th>3</th>\n",
       "      <td>white system go</td>\n",
       "      <td>1976-06-02</td>\n",
       "      <td>By Jennifer Mcgrath</td>\n",
       "    </tr>\n",
       "    <tr>\n",
       "      <th>4</th>\n",
       "      <td>financial know assume</td>\n",
       "      <td>1985-05-28</td>\n",
       "      <td>By Ronald Hill</td>\n",
       "    </tr>\n",
       "    <tr>\n",
       "      <th>5</th>\n",
       "      <td>television cover continue</td>\n",
       "      <td>1987-02-16</td>\n",
       "      <td>By Alexandra Watson</td>\n",
       "    </tr>\n",
       "    <tr>\n",
       "      <th>6</th>\n",
       "      <td>simply what system</td>\n",
       "      <td>1988-05-08</td>\n",
       "      <td>By Alexander Holmes</td>\n",
       "    </tr>\n",
       "    <tr>\n",
       "      <th>7</th>\n",
       "      <td>education best age</td>\n",
       "      <td>1995-04-13</td>\n",
       "      <td>By Shannon Robinson</td>\n",
       "    </tr>\n",
       "    <tr>\n",
       "      <th>8</th>\n",
       "      <td>west accept none</td>\n",
       "      <td>1989-05-02</td>\n",
       "      <td>By Carol Levy</td>\n",
       "    </tr>\n",
       "    <tr>\n",
       "      <th>9</th>\n",
       "      <td>pattern name choose</td>\n",
       "      <td>2012-12-18</td>\n",
       "      <td>By Kim Thomas</td>\n",
       "    </tr>\n",
       "    <tr>\n",
       "      <th>10</th>\n",
       "      <td>early than myself</td>\n",
       "      <td>2011-10-27</td>\n",
       "      <td>By Zachary Houston</td>\n",
       "    </tr>\n",
       "    <tr>\n",
       "      <th>11</th>\n",
       "      <td>do trade prevent</td>\n",
       "      <td>2021-07-06</td>\n",
       "      <td>By Janice Smith</td>\n",
       "    </tr>\n",
       "  </tbody>\n",
       "</table>\n",
       "</div>"
      ],
      "text/plain": [
       "                          title          date                    author\n",
       "0          program source great   2019-10-04          By Kari Martinez \n",
       "1   population knowledge writer   2007-05-14       By William Mcdonald \n",
       "2          religious mean there   1986-01-13   By Christopher Mckenzie \n",
       "3               white system go   1976-06-02       By Jennifer Mcgrath \n",
       "4         financial know assume   1985-05-28            By Ronald Hill \n",
       "5     television cover continue   1987-02-16       By Alexandra Watson \n",
       "6            simply what system   1988-05-08       By Alexander Holmes \n",
       "7            education best age   1995-04-13       By Shannon Robinson \n",
       "8              west accept none   1989-05-02             By Carol Levy \n",
       "9           pattern name choose   2012-12-18             By Kim Thomas \n",
       "10            early than myself   2011-10-27        By Zachary Houston \n",
       "11             do trade prevent   2021-07-06           By Janice Smith "
      ]
     },
     "execution_count": 3,
     "metadata": {},
     "output_type": "execute_result"
    }
   ],
   "source": [
    "response = requests.get('https://web-scraping-demo.zgulde.net/news')\n",
    "soup = BeautifulSoup(response.text)\n",
    "articles = soup.select('.grid.gap-y-12 > div')\n",
    "pd.DataFrame([parse_news_article(article) for article in articles])"
   ]
  },
  {
   "cell_type": "code",
   "execution_count": 4,
   "id": "2c9f5ce5-c3d8-4a6e-b169-fc864ff11fe3",
   "metadata": {},
   "outputs": [],
   "source": [
    "url = 'https://web-scraping-demo.zgulde.net/'\n",
    "headers = {'people': 'viewport'}\n",
    "response = get(url, headers=headers)"
   ]
  },
  {
   "cell_type": "code",
   "execution_count": 5,
   "id": "58eeaa36-54bf-489c-83b6-a16f5d20d567",
   "metadata": {},
   "outputs": [
    {
     "name": "stdout",
     "output_type": "stream",
     "text": [
      "<!DOCTYPE html>\n",
      "<html lang=\"en\">\n",
      "<head>\n",
      "    <meta charset=\"UTF-8\">\n",
      "    <meta http-equiv=\"X-UA-Compatible\" content=\"IE=edge\">\n",
      "    <meta name=\"viewport\" content=\"width=device-width, initial-scale=1.0\">\n",
      "    <title>Web Scraping Demo Pages</title>\n",
      "    <link href=\"https://unpkg.com/tailwindcss@^2/dist/tailwind.min.css\" rel=\"stylesheet\" />\n",
      "    <link rel=\"stylesheet\" href=\"https://cdn.jsdelivr.net/npm/boo\n"
     ]
    }
   ],
   "source": [
    "print(response.text[:400])"
   ]
  },
  {
   "cell_type": "code",
   "execution_count": null,
   "id": "522ec54b-cb09-4ec0-bad7-0ddf128198ab",
   "metadata": {},
   "outputs": [],
   "source": [
    "def get_front_page_links():\n",
    "    \"\"\"\n",
    "    Short function to hit the codeup blog landing page and return a list of all the urls to further blog posts on the\n",
    "    page.\n",
    "    \"\"\"\n",
    "    response = requests.get(\"https://codeup.com/blog/\", headers={\"user-agent\": \"Codeup DS\"})\n",
    "    soup = BeautifulSoup(response.text)\n",
    "    links = [link.attrs[\"href\"] for link in soup.select(\".more-link\")]\n",
    "    return links\n",
    "\n",
    "def parse_codeup_blog_article(url):\n",
    "    \"Given a blog article url, extract the relevant information and return it as a dictionary.\"\n",
    "    response = requests.get(url, headers={\"user-agent\": \"Codeup DS\"})\n",
    "    soup = BeautifulSoup(response.text)\n",
    "    return {\n",
    "        \"title\": soup.select_one(\".entry-title\").text,\n",
    "        \"published\": soup.select_one(\".published\").text,\n",
    "        \"content\": soup.select_one(\".et_pb_post_content\").text.strip(),\n",
    "    }\n",
    "\n",
    "\n",
    "def get_blog_articles():\n",
    "    \"Returns a dataframe where each row is a blog post from the codeup blog landing page.\"\n",
    "    links = get_front_page_links()\n",
    "    df = pd.DataFrame([parse_codeup_blog_article(link) for link in links])\n",
    "    return df"
   ]
  },
  {
   "cell_type": "code",
   "execution_count": null,
   "id": "d1692f6b-e5c2-4759-8e13-06c09a68fdf7",
   "metadata": {},
   "outputs": [],
   "source": []
  }
 ],
 "metadata": {
  "kernelspec": {
   "display_name": "Python 3.8.8 64-bit ('base': conda)",
   "language": "python",
   "name": "python388jvsc74a57bd0b64057e63add2b45b1ffc7eab9b09c8889b419c878e2fdf0d08f837f0fc857a7"
  },
  "language_info": {
   "codemirror_mode": {
    "name": "ipython",
    "version": 3
   },
   "file_extension": ".py",
   "mimetype": "text/x-python",
   "name": "python",
   "nbconvert_exporter": "python",
   "pygments_lexer": "ipython3",
   "version": "3.8.8"
  }
 },
 "nbformat": 4,
 "nbformat_minor": 5
}
