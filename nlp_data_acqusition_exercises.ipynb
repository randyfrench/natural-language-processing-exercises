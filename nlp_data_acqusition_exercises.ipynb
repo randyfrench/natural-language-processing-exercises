{
 "cells": [
  {
   "cell_type": "markdown",
   "id": "0519e0c2-0a1e-437e-8f20-7890055d18f0",
   "metadata": {},
   "source": [
    "## Exercises\n",
    "\n",
    "By the end of this exercise, you should have a file named acquire.py that contains the specified functions. If you wish, you may break your work into separate files for each website (e.g. acquire_codeup_blog.py and acquire_news_articles.py), but the end function should be present in acquire.py (that is, acquire.py should import get_blog_articles from the acquire_codeup_blog module.)"
   ]
  },
  {
   "cell_type": "code",
   "execution_count": 3,
   "id": "f4df3bb8-10cd-4e83-bad4-abfc1104acb2",
   "metadata": {},
   "outputs": [],
   "source": [
    "import requests\n",
    "from bs4 import BeautifulSoup\n",
    "import pandas as pd\n",
    "from requests import get"
   ]
  },
  {
   "cell_type": "markdown",
   "id": "4860fc6c-1c33-495c-a5fd-8bdabeffff72",
   "metadata": {},
   "source": [
    "### 1. Codeup Blog Articles\n",
    "\n",
    "Visit Codeup's Blog and record the urls for at least 5 distinct blog posts. For each post, you should scrape at least the post's title and content.\n",
    "\n",
    "Encapsulate your work in a function named get_blog_articles that will return a list of dictionaries, with each dictionary representing one article. The shape of each dictionary should look like this:\n",
    "\n",
    "{\n",
    "    'title': 'the title of the article',\n",
    "    \n",
    "    'content': 'the full text content of the article'\n",
    "}\n",
    "Plus any additional properties you think might be helpful.\n",
    "\n",
    "Bonus: Scrape the text of all the articles linked on codeup's blog page."
   ]
  },
  {
   "cell_type": "code",
   "execution_count": 5,
   "id": "2b31568c-99f2-4aa8-ab4e-b5260753a3aa",
   "metadata": {},
   "outputs": [],
   "source": [
    "response =requests.get(\"https://codeup.com/blog/\", headers={\"user-agent\": \"Codeup DS\"})\n",
    "soup = BeautifulSoup(response.text)\n",
    "links = [link.attrs[\"href\"] for link in soup.select(\".more-link\")]"
   ]
  },
  {
   "cell_type": "code",
   "execution_count": 6,
   "id": "cd491f1d-e447-420e-84b0-51a0b06eeb8d",
   "metadata": {},
   "outputs": [
    {
     "data": {
      "text/plain": [
       "['https://codeup.com/codeup-news/codeup-launches-first-podcast-hire-tech/',\n",
       " 'https://codeup.com/tips-for-prospective-students/why-should-i-become-a-system-administrator/',\n",
       " 'https://codeup.com/codeup-news/codeup-candidate-for-accreditation/',\n",
       " 'https://codeup.com/codeup-news/codeup-takes-over-more-of-the-historic-vogue-building/',\n",
       " 'https://codeup.com/codeup-news/inclusion-at-codeup-during-pride-month-and-always/',\n",
       " 'https://codeup.com/tips-for-prospective-students/why-you-need-the-best-coding-bootcamp-instructors/',\n",
       " 'https://codeup.com/codeup-news/meet-the-new-codeup-coo-stephen-noteboom/',\n",
       " 'https://codeup.com/alumni-stories/how-i-went-from-codeup-to-business-owner/',\n",
       " 'https://codeup.com/tips-for-prospective-students/coding-is-for-women/',\n",
       " 'https://codeup.com/codeup-news/codeup-acquires-rackspace-cloud-academy/',\n",
       " 'https://codeup.com/tips-for-prospective-students/what-are-the-best-jobs-in-2021/',\n",
       " 'https://codeup.com/codeup-news/meet-our-new-vp-of-delivery-marty-sixkiller/',\n",
       " 'https://codeup.com/codeup-news/start-a-new-career-with-vet-tec/',\n",
       " 'https://codeup.com/codeup-news/how-to-hire-for-the-long-haul/',\n",
       " 'https://codeup.com/codeup-news/know-who-youre-hiring/']"
      ]
     },
     "execution_count": 6,
     "metadata": {},
     "output_type": "execute_result"
    }
   ],
   "source": [
    "links"
   ]
  },
  {
   "cell_type": "code",
   "execution_count": 8,
   "id": "18ee6ea8-fece-4363-805f-1f8f28bc820a",
   "metadata": {},
   "outputs": [],
   "source": [
    "response = requests.get('https://codeup.com/codeup-news/codeup-launches-first-podcast-hire-tech/', headers={\"user-agent\": \"Codeup DS Germain\"})\n",
    "soup = BeautifulSoup(response.text)"
   ]
  },
  {
   "cell_type": "code",
   "execution_count": 10,
   "id": "7f66ec2f-0e33-4f20-b834-7502b3b2cda2",
   "metadata": {},
   "outputs": [
    {
     "ename": "NameError",
     "evalue": "name 'get_front_page_links' is not defined",
     "output_type": "error",
     "traceback": [
      "\u001b[0;31m---------------------------------------------------------------------------\u001b[0m",
      "\u001b[0;31mNameError\u001b[0m                                 Traceback (most recent call last)",
      "\u001b[0;32m<ipython-input-10-15192308bcc1>\u001b[0m in \u001b[0;36m<module>\u001b[0;34m\u001b[0m\n\u001b[0;32m----> 1\u001b[0;31m \u001b[0mlinks\u001b[0m \u001b[0;34m=\u001b[0m \u001b[0mget_front_page_links\u001b[0m\u001b[0;34m(\u001b[0m\u001b[0;34m)\u001b[0m\u001b[0;34m\u001b[0m\u001b[0;34m\u001b[0m\u001b[0m\n\u001b[0m\u001b[1;32m      2\u001b[0m \u001b[0mdf\u001b[0m \u001b[0;34m=\u001b[0m \u001b[0mpd\u001b[0m\u001b[0;34m.\u001b[0m\u001b[0mDataFrame\u001b[0m\u001b[0;34m(\u001b[0m\u001b[0;34m[\u001b[0m\u001b[0mparse_codeup_blog_article\u001b[0m\u001b[0;34m(\u001b[0m\u001b[0mlink\u001b[0m\u001b[0;34m)\u001b[0m \u001b[0;32mfor\u001b[0m \u001b[0mlink\u001b[0m \u001b[0;32min\u001b[0m \u001b[0mlinks\u001b[0m\u001b[0;34m]\u001b[0m\u001b[0;34m)\u001b[0m\u001b[0;34m\u001b[0m\u001b[0;34m\u001b[0m\u001b[0m\n",
      "\u001b[0;31mNameError\u001b[0m: name 'get_front_page_links' is not defined"
     ]
    }
   ],
   "source": [
    "links = get_front_page_links()\n",
    "df = pd.DataFrame([parse_codeup_blog_article(link) for link in links])"
   ]
  },
  {
   "cell_type": "code",
   "execution_count": 12,
   "id": "a6e6ed9f-5ed9-460d-a669-f51d87162344",
   "metadata": {},
   "outputs": [
    {
     "ename": "NameError",
     "evalue": "name 'card' is not defined",
     "output_type": "error",
     "traceback": [
      "\u001b[0;31m---------------------------------------------------------------------------\u001b[0m",
      "\u001b[0;31mNameError\u001b[0m                                 Traceback (most recent call last)",
      "\u001b[0;32m<ipython-input-12-b6c8a0543973>\u001b[0m in \u001b[0;36m<module>\u001b[0;34m\u001b[0m\n\u001b[0;32m----> 1\u001b[0;31m \u001b[0mcard_title\u001b[0m \u001b[0;34m=\u001b[0m \u001b[0mcard\u001b[0m\u001b[0;34m.\u001b[0m\u001b[0mselect_one\u001b[0m\u001b[0;34m(\u001b[0m\u001b[0;34m'.news-card-title'\u001b[0m\u001b[0;34m)\u001b[0m\u001b[0;34m\u001b[0m\u001b[0;34m\u001b[0m\u001b[0m\n\u001b[0m\u001b[1;32m      2\u001b[0m \u001b[0moutput\u001b[0m \u001b[0;34m=\u001b[0m \u001b[0;34m{\u001b[0m\u001b[0;34m}\u001b[0m\u001b[0;34m\u001b[0m\u001b[0;34m\u001b[0m\u001b[0m\n\u001b[1;32m      3\u001b[0m \u001b[0moutput\u001b[0m\u001b[0;34m[\u001b[0m\u001b[0;34m'title'\u001b[0m\u001b[0;34m]\u001b[0m \u001b[0;34m=\u001b[0m \u001b[0mcard_title\u001b[0m\u001b[0;34m.\u001b[0m\u001b[0mfind\u001b[0m\u001b[0;34m(\u001b[0m\u001b[0;34m'a'\u001b[0m\u001b[0;34m)\u001b[0m\u001b[0;34m.\u001b[0m\u001b[0mtext\u001b[0m\u001b[0;34m.\u001b[0m\u001b[0mstrip\u001b[0m\u001b[0;34m(\u001b[0m\u001b[0;34m)\u001b[0m\u001b[0;34m\u001b[0m\u001b[0;34m\u001b[0m\u001b[0m\n\u001b[1;32m      4\u001b[0m \u001b[0moutput\u001b[0m\u001b[0;34m[\u001b[0m\u001b[0;34m'published'\u001b[0m\u001b[0;34m]\u001b[0m \u001b[0;34m=\u001b[0m \u001b[0mcard_title\u001b[0m\u001b[0;34m.\u001b[0m\u001b[0mselect_one\u001b[0m\u001b[0;34m(\u001b[0m\u001b[0;34m'.time'\u001b[0m\u001b[0;34m)\u001b[0m\u001b[0;34m.\u001b[0m\u001b[0mattrs\u001b[0m\u001b[0;34m[\u001b[0m\u001b[0;34m'content'\u001b[0m\u001b[0;34m]\u001b[0m\u001b[0;34m\u001b[0m\u001b[0;34m\u001b[0m\u001b[0m\n\u001b[1;32m      5\u001b[0m \u001b[0moutput\u001b[0m\u001b[0;34m[\u001b[0m\u001b[0;34m'author'\u001b[0m\u001b[0;34m]\u001b[0m \u001b[0;34m=\u001b[0m \u001b[0mcard_title\u001b[0m\u001b[0;34m.\u001b[0m\u001b[0mselect_one\u001b[0m\u001b[0;34m(\u001b[0m\u001b[0;34m'.author'\u001b[0m\u001b[0;34m)\u001b[0m\u001b[0;34m.\u001b[0m\u001b[0mtext\u001b[0m\u001b[0;34m\u001b[0m\u001b[0;34m\u001b[0m\u001b[0m\n",
      "\u001b[0;31mNameError\u001b[0m: name 'card' is not defined"
     ]
    }
   ],
   "source": [
    "card_title = card.select_one('.news-card-title')\n",
    "output = {}\n",
    "output['title'] = card_title.find('a').text.strip()\n",
    "output['published'] = card_title.select_one('.time').attrs['content']\n",
    "output['author'] = card_title.select_one('.author').text\n",
    "output['content'] = card.select_one('.news-card-content').div.text.strip()"
   ]
  },
  {
   "cell_type": "code",
   "execution_count": null,
   "id": "9f3c4cee-753f-47eb-b70d-f39618d13dbc",
   "metadata": {},
   "outputs": [],
   "source": []
  },
  {
   "cell_type": "code",
   "execution_count": 11,
   "id": "7b5a6adc-8ec0-4a4d-9dac-777d4348e4ef",
   "metadata": {},
   "outputs": [
    {
     "ename": "NameError",
     "evalue": "name 'parse_inshorts_page' is not defined",
     "output_type": "error",
     "traceback": [
      "\u001b[0;31m---------------------------------------------------------------------------\u001b[0m",
      "\u001b[0;31mNameError\u001b[0m                                 Traceback (most recent call last)",
      "\u001b[0;32m<ipython-input-11-a13a9e61cb60>\u001b[0m in \u001b[0;36m<module>\u001b[0;34m\u001b[0m\n\u001b[1;32m      1\u001b[0m \u001b[0murl\u001b[0m \u001b[0;34m=\u001b[0m \u001b[0;34m'https://inshorts.com/en/read/{}'\u001b[0m\u001b[0;34m\u001b[0m\u001b[0;34m\u001b[0m\u001b[0m\n\u001b[1;32m      2\u001b[0m \u001b[0mcategories\u001b[0m \u001b[0;34m=\u001b[0m \u001b[0;34m[\u001b[0m\u001b[0;34m'business'\u001b[0m\u001b[0;34m,\u001b[0m \u001b[0;34m'sports'\u001b[0m\u001b[0;34m,\u001b[0m \u001b[0;34m'technology'\u001b[0m\u001b[0;34m,\u001b[0m \u001b[0;34m'entertainment'\u001b[0m\u001b[0;34m]\u001b[0m\u001b[0;34m\u001b[0m\u001b[0;34m\u001b[0m\u001b[0m\n\u001b[0;32m----> 3\u001b[0;31m \u001b[0mdf\u001b[0m \u001b[0;34m=\u001b[0m \u001b[0mpd\u001b[0m\u001b[0;34m.\u001b[0m\u001b[0mconcat\u001b[0m\u001b[0;34m(\u001b[0m\u001b[0;34m[\u001b[0m\u001b[0mparse_inshorts_page\u001b[0m\u001b[0;34m(\u001b[0m\u001b[0murl\u001b[0m\u001b[0;34m.\u001b[0m\u001b[0mformat\u001b[0m\u001b[0;34m(\u001b[0m\u001b[0mcat\u001b[0m\u001b[0;34m)\u001b[0m\u001b[0;34m)\u001b[0m \u001b[0;32mfor\u001b[0m \u001b[0mcat\u001b[0m \u001b[0;32min\u001b[0m \u001b[0mcategories\u001b[0m\u001b[0;34m]\u001b[0m\u001b[0;34m)\u001b[0m\u001b[0;34m\u001b[0m\u001b[0;34m\u001b[0m\u001b[0m\n\u001b[0m\u001b[1;32m      4\u001b[0m \u001b[0mdf\u001b[0m \u001b[0;34m=\u001b[0m \u001b[0mdf\u001b[0m\u001b[0;34m.\u001b[0m\u001b[0mreset_index\u001b[0m\u001b[0;34m(\u001b[0m\u001b[0mdrop\u001b[0m\u001b[0;34m=\u001b[0m\u001b[0;32mTrue\u001b[0m\u001b[0;34m)\u001b[0m\u001b[0;34m\u001b[0m\u001b[0;34m\u001b[0m\u001b[0m\n",
      "\u001b[0;32m<ipython-input-11-a13a9e61cb60>\u001b[0m in \u001b[0;36m<listcomp>\u001b[0;34m(.0)\u001b[0m\n\u001b[1;32m      1\u001b[0m \u001b[0murl\u001b[0m \u001b[0;34m=\u001b[0m \u001b[0;34m'https://inshorts.com/en/read/{}'\u001b[0m\u001b[0;34m\u001b[0m\u001b[0;34m\u001b[0m\u001b[0m\n\u001b[1;32m      2\u001b[0m \u001b[0mcategories\u001b[0m \u001b[0;34m=\u001b[0m \u001b[0;34m[\u001b[0m\u001b[0;34m'business'\u001b[0m\u001b[0;34m,\u001b[0m \u001b[0;34m'sports'\u001b[0m\u001b[0;34m,\u001b[0m \u001b[0;34m'technology'\u001b[0m\u001b[0;34m,\u001b[0m \u001b[0;34m'entertainment'\u001b[0m\u001b[0;34m]\u001b[0m\u001b[0;34m\u001b[0m\u001b[0;34m\u001b[0m\u001b[0m\n\u001b[0;32m----> 3\u001b[0;31m \u001b[0mdf\u001b[0m \u001b[0;34m=\u001b[0m \u001b[0mpd\u001b[0m\u001b[0;34m.\u001b[0m\u001b[0mconcat\u001b[0m\u001b[0;34m(\u001b[0m\u001b[0;34m[\u001b[0m\u001b[0mparse_inshorts_page\u001b[0m\u001b[0;34m(\u001b[0m\u001b[0murl\u001b[0m\u001b[0;34m.\u001b[0m\u001b[0mformat\u001b[0m\u001b[0;34m(\u001b[0m\u001b[0mcat\u001b[0m\u001b[0;34m)\u001b[0m\u001b[0;34m)\u001b[0m \u001b[0;32mfor\u001b[0m \u001b[0mcat\u001b[0m \u001b[0;32min\u001b[0m \u001b[0mcategories\u001b[0m\u001b[0;34m]\u001b[0m\u001b[0;34m)\u001b[0m\u001b[0;34m\u001b[0m\u001b[0;34m\u001b[0m\u001b[0m\n\u001b[0m\u001b[1;32m      4\u001b[0m \u001b[0mdf\u001b[0m \u001b[0;34m=\u001b[0m \u001b[0mdf\u001b[0m\u001b[0;34m.\u001b[0m\u001b[0mreset_index\u001b[0m\u001b[0;34m(\u001b[0m\u001b[0mdrop\u001b[0m\u001b[0;34m=\u001b[0m\u001b[0;32mTrue\u001b[0m\u001b[0;34m)\u001b[0m\u001b[0;34m\u001b[0m\u001b[0;34m\u001b[0m\u001b[0m\n",
      "\u001b[0;31mNameError\u001b[0m: name 'parse_inshorts_page' is not defined"
     ]
    }
   ],
   "source": [
    "url = 'https://inshorts.com/en/read/{}'\n",
    "categories = ['business', 'sports', 'technology', 'entertainment']\n",
    "df = pd.concat([parse_inshorts_page(url.format(cat)) for cat in categories])\n",
    "df = df.reset_index(drop=True)"
   ]
  },
  {
   "cell_type": "code",
   "execution_count": null,
   "id": "89cb8bb8-e8bf-44d9-af3b-fade905d35b8",
   "metadata": {},
   "outputs": [],
   "source": []
  },
  {
   "cell_type": "code",
   "execution_count": null,
   "id": "a95d9d23-4ce3-4d5b-ab26-1e0cb3c16737",
   "metadata": {},
   "outputs": [],
   "source": []
  },
  {
   "cell_type": "code",
   "execution_count": null,
   "id": "4a7c583d-12d7-4c9f-9519-f91dd6888ccf",
   "metadata": {},
   "outputs": [],
   "source": []
  },
  {
   "cell_type": "code",
   "execution_count": null,
   "id": "6520d0d1-f2f9-42f9-9977-66ccca99c014",
   "metadata": {},
   "outputs": [],
   "source": []
  },
  {
   "cell_type": "code",
   "execution_count": null,
   "id": "223cd70e-6d67-4d37-a2a9-4280786b40e8",
   "metadata": {},
   "outputs": [],
   "source": [
    "response = requests.get('https://codeup.com/alumni-stories/from-speech-pathology-to-business-intelligence', headers={'user-agent': 'Codeup DS Germain'})\n",
    "html = response.text\n",
    "html"
   ]
  },
  {
   "cell_type": "code",
   "execution_count": null,
   "id": "7bd4712e-f0d0-44e2-9c71-b606d4317fe4",
   "metadata": {},
   "outputs": [],
   "source": [
    "soup = BeautifulSoup(html)\n",
    "soup"
   ]
  },
  {
   "cell_type": "code",
   "execution_count": null,
   "id": "b86d06e6-7e22-47da-9298-5a92800d31ac",
   "metadata": {},
   "outputs": [],
   "source": [
    "blogs = soup.select('.grid.grid-cols-4.gap-x-4.border')\n",
    "#articles[0].select('.italic')[0].select('p')"
   ]
  },
  {
   "cell_type": "code",
   "execution_count": 7,
   "id": "f07cfce7-ab0c-4a08-a2d3-4454496d3947",
   "metadata": {},
   "outputs": [],
   "source": [
    "response = requests.get('https://codeup.com/alumni-stories/from-speech-pathology-to-business-intelligence', headers={'user-agent': 'Codeup DS Germain'})\n",
    "soup = BeautifulSoup(response.text)"
   ]
  },
  {
   "cell_type": "code",
   "execution_count": 8,
   "id": "af4417e7-55b0-4d19-8a2d-d5da4fde4e5c",
   "metadata": {},
   "outputs": [],
   "source": [
    "title = soup.select('.entry-title')"
   ]
  },
  {
   "cell_type": "code",
   "execution_count": 9,
   "id": "85974cfc-0b77-4cba-9ac2-a4ba25e7e2b2",
   "metadata": {},
   "outputs": [
    {
     "data": {
      "text/plain": [
       "[<h1 class=\"entry-title\">From Speech Pathology to Business Intelligence</h1>]"
      ]
     },
     "execution_count": 9,
     "metadata": {},
     "output_type": "execute_result"
    }
   ],
   "source": [
    "title"
   ]
  },
  {
   "cell_type": "code",
   "execution_count": 10,
   "id": "0c98ceea-6a68-4357-9d77-14ec9e523dd4",
   "metadata": {},
   "outputs": [],
   "source": [
    "blog = requests.get('https://codeup.com/blog', headers={'user-agent': 'Codeup DS Germain'})\n",
    "soup = BeautifulSoup(blog.text)"
   ]
  },
  {
   "cell_type": "code",
   "execution_count": 11,
   "id": "5eecd4f8-b307-42fb-bb2d-1b1dfaa04f70",
   "metadata": {},
   "outputs": [
    {
     "data": {
      "text/plain": [
       "[<h2 class=\"entry-title\"><a href=\"https://codeup.com/alumni-stories/from-speech-pathology-to-business-intelligence/\">From Speech Pathology to Business Intelligence</a></h2>,\n",
       " <h2 class=\"entry-title\"><a href=\"https://codeup.com/behind-the-billboards/boris-behind-the-billboards/\">Boris – Behind the Billboards</a></h2>,\n",
       " <h2 class=\"entry-title\"><a href=\"https://codeup.com/codeup-news/is-codeup-the-best-bootcamp-in-san-antonio-or-the-world/\">Is Codeup the Best Bootcamp in San Antonio…or the World?</a></h2>,\n",
       " <h2 class=\"entry-title\"><a href=\"https://codeup.com/codeup-news/codeup-launches-first-podcast-hire-tech/\">Codeup Launches First Podcast: Hire Tech</a></h2>,\n",
       " <h2 class=\"entry-title\"><a href=\"https://codeup.com/tips-for-prospective-students/why-should-i-become-a-system-administrator/\">Why Should I Become a System Administrator?</a></h2>,\n",
       " <h2 class=\"entry-title\"><a href=\"https://codeup.com/codeup-news/codeup-candidate-for-accreditation/\">Announcing our Candidacy for Accreditation!</a></h2>,\n",
       " <h2 class=\"entry-title\"><a href=\"https://codeup.com/codeup-news/codeup-takes-over-more-of-the-historic-vogue-building/\">Codeup Takes Over More of the Historic Vogue Building</a></h2>,\n",
       " <h2 class=\"entry-title\"><a href=\"https://codeup.com/codeup-news/inclusion-at-codeup-during-pride-month-and-always/\">Inclusion at Codeup During Pride Month (and Always)</a></h2>,\n",
       " <h2 class=\"entry-title\"><a href=\"https://codeup.com/tips-for-prospective-students/why-you-need-the-best-coding-bootcamp-instructors/\">Why You Need the Best Coding Bootcamp Instructors</a></h2>,\n",
       " <h2 class=\"entry-title\"><a href=\"https://codeup.com/codeup-news/meet-the-new-codeup-coo-stephen-noteboom/\">Meet the new Codeup COO, Stephen Noteboom!</a></h2>,\n",
       " <h2 class=\"entry-title\"><a href=\"https://codeup.com/alumni-stories/how-i-went-from-codeup-to-business-owner/\">How I Went From Codeup to Business Owner</a></h2>,\n",
       " <h2 class=\"entry-title\"><a href=\"https://codeup.com/tips-for-prospective-students/coding-is-for-women/\">Coding is for Women</a></h2>,\n",
       " <h2 class=\"entry-title\"><a href=\"https://codeup.com/codeup-news/codeup-acquires-rackspace-cloud-academy/\">Codeup Acquires Rackspace Cloud Academy!</a></h2>,\n",
       " <h2 class=\"entry-title\"><a href=\"https://codeup.com/tips-for-prospective-students/what-are-the-best-jobs-in-2021/\">What are the Best Jobs in 2021?</a></h2>,\n",
       " <h2 class=\"entry-title\"><a href=\"https://codeup.com/codeup-news/meet-our-new-vp-of-delivery-marty-sixkiller/\">Meet our new VP of Delivery, Marty Sixkiller!</a></h2>,\n",
       " <h2 class=\"entry-title\"><a href=\"https://codeup.com/codeup-news/start-a-new-career-with-vet-tec/\">Start a New Career with VET TEC!</a></h2>,\n",
       " <h2 class=\"entry-title\"><a href=\"https://codeup.com/codeup-news/how-to-hire-for-the-long-haul/\">How to Hire for the Long Haul; We’ve Got Your Back</a></h2>,\n",
       " <h2 class=\"entry-title\"><a href=\"https://codeup.com/codeup-news/know-who-youre-hiring/\">Do You Know Who You’re Hiring?</a></h2>]"
      ]
     },
     "execution_count": 11,
     "metadata": {},
     "output_type": "execute_result"
    }
   ],
   "source": [
    "soup.select('.entry-title')"
   ]
  },
  {
   "cell_type": "code",
   "execution_count": 19,
   "id": "8437082f-2079-45bc-920f-22634e977769",
   "metadata": {},
   "outputs": [
    {
     "data": {
      "text/plain": [
       "[]"
      ]
     },
     "execution_count": 19,
     "metadata": {},
     "output_type": "execute_result"
    }
   ],
   "source": [
    "content = soup.select('.div.et_pb_module.et_pb_post_content.et_pb_post_content_0_tb_body')\n",
    "content"
   ]
  },
  {
   "cell_type": "code",
   "execution_count": null,
   "id": "91741dac-5201-49f3-9635-c99bb4b1c170",
   "metadata": {},
   "outputs": [],
   "source": []
  }
 ],
 "metadata": {
  "kernelspec": {
   "display_name": "Python 3.8.8 64-bit ('base': conda)",
   "language": "python",
   "name": "python388jvsc74a57bd0b64057e63add2b45b1ffc7eab9b09c8889b419c878e2fdf0d08f837f0fc857a7"
  },
  "language_info": {
   "codemirror_mode": {
    "name": "ipython",
    "version": 3
   },
   "file_extension": ".py",
   "mimetype": "text/x-python",
   "name": "python",
   "nbconvert_exporter": "python",
   "pygments_lexer": "ipython3",
   "version": "3.8.8"
  }
 },
 "nbformat": 4,
 "nbformat_minor": 5
}
