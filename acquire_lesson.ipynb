{
 "cells": [
  {
   "cell_type": "markdown",
   "metadata": {},
   "source": [
    "# Data Acquisition with Web Scraping"
   ]
  },
  {
   "cell_type": "code",
   "execution_count": 2,
   "metadata": {},
   "outputs": [],
   "source": [
    "import requests\n",
    "from bs4 import BeautifulSoup\n",
    "import pandas as pd"
   ]
  },
  {
   "cell_type": "markdown",
   "metadata": {},
   "source": [
    "First make the request. The response is a bunch of html."
   ]
  },
  {
   "cell_type": "code",
   "execution_count": 3,
   "metadata": {},
   "outputs": [
    {
     "data": {
      "text/plain": [
       "'<!DOCTYPE html>\\n<html lang=\"en\">\\n<head>\\n    <meta charset=\"UTF-8\">\\n    <meta http-equiv=\"X-UA-Compatible\" content=\"IE=edge\">\\n    <meta name=\"viewport\" content=\"width=device-width, initial-scale=1.0\">\\n    <title>News Example Page</title>\\n    <link href=\"https://unpkg.com/tailwindcss@^2/dist/tailwind.min.css\" rel=\"stylesheet\" />\\n    <link rel=\"stylesheet\" href=\"https://cdn.jsdelivr.net/npm/bootstrap-icons@1.4.1/font/bootstrap-icons.css\" />\\n</head>\\n<body class=\"mx-auto max-w-screen-lg pb-32\">\\n    \\n<h1 class=\"my-5 text-4xl text-center\">News!</h1>\\n<div class=\"my-5 text-red-800 px-5 py-3 bg-red-100 font-bold\">\\n    <p>\\n        <i class=\"bi bi-exclamation-circle text-xl\"></i>\\n        All data on this page is strictly for demonstration purposes and fake.\\n    </p>\\n</div>\\n<div class=\"grid gap-y-12\">\\n    \\n    <div class=\"grid grid-cols-4 gap-x-4 border rounded pr-3 bg-green-50 hover:shadow-lg transition duration-500\">\\n        <img src=\"/static/placeholder.png\" />\\n        <div class=\"col-span-3 space-y-3 py-3\">\\n            <h2 class=\"text-2xl text-green-900\">knowledge life blue</h2>\\n            <div class=\"grid grid-cols-2 italic\">\\n                <p> 1975-08-28 </p>\\n                <p class=\"text-right\">By Brett Leach </p>\\n            </div>\\n            <p>Writer people less defense. Data once year region spend street.\\nEvening consider from rate guess. Style opportunity bar law material. Be purpose picture make left. Hair north million create various.</p>\\n        </div>\\n    </div>\\n    \\n    <div class=\"grid grid-cols-4 gap-x-4 border rounded pr-3 bg-green-50 hover:shadow-lg transition duration-500\">\\n        <img src=\"/static/placeholder.png\" />\\n        <div class=\"col-span-3 space-y-3 py-3\">\\n            <h2 class=\"text-2xl text-green-900\">address campaign ball</h2>\\n            <div class=\"grid grid-cols-2 italic\">\\n                <p> 1989-01-21 </p>\\n                <p class=\"text-right\">By Tanner Morton </p>\\n            </div>\\n            <p>Little garden together edge. Feeling save prepare south opportunity collection better.\\nStuff one sometimes financial. Former tend range. Fear range southern plan benefit time suffer.</p>\\n        </div>\\n    </div>\\n    \\n    <div class=\"grid grid-cols-4 gap-x-4 border rounded pr-3 bg-green-50 hover:shadow-lg transition duration-500\">\\n        <img src=\"/static/placeholder.png\" />\\n        <div class=\"col-span-3 space-y-3 py-3\">\\n            <h2 class=\"text-2xl text-green-900\">worry project none</h2>\\n            <div class=\"grid grid-cols-2 italic\">\\n                <p> 2012-01-25 </p>\\n                <p class=\"text-right\">By Robert Walker </p>\\n            </div>\\n            <p>Same wife poor require prepare. Song several detail.\\nTeacher night place they. Behind require far that way.</p>\\n        </div>\\n    </div>\\n    \\n    <div class=\"grid grid-cols-4 gap-x-4 border rounded pr-3 bg-green-50 hover:shadow-lg transition duration-500\">\\n        <img src=\"/static/placeholder.png\" />\\n        <div class=\"col-span-3 space-y-3 py-3\">\\n            <h2 class=\"text-2xl text-green-900\">election enough trouble</h2>\\n            <div class=\"grid grid-cols-2 italic\">\\n                <p> 2021-07-03 </p>\\n                <p class=\"text-right\">By Andrea Hahn </p>\\n            </div>\\n            <p>Amount develop draw safe system statement culture. Century second continue.\\nSound ask fly east such less. Trouble mind admit red quality.</p>\\n        </div>\\n    </div>\\n    \\n    <div class=\"grid grid-cols-4 gap-x-4 border rounded pr-3 bg-green-50 hover:shadow-lg transition duration-500\">\\n        <img src=\"/static/placeholder.png\" />\\n        <div class=\"col-span-3 space-y-3 py-3\">\\n            <h2 class=\"text-2xl text-green-900\">past yourself talk</h2>\\n            <div class=\"grid grid-cols-2 italic\">\\n                <p> 1981-12-09 </p>\\n                <p class=\"text-right\">By Erin Woods </p>\\n            </div>\\n            <p>Each from tell. All mouth must event less all position scene.\\nIndeed itself hair easy. Meeting score about. Guy under religious election instead professional.</p>\\n        </div>\\n    </div>\\n    \\n    <div class=\"grid grid-cols-4 gap-x-4 border rounded pr-3 bg-green-50 hover:shadow-lg transition duration-500\">\\n        <img src=\"/static/placeholder.png\" />\\n        <div class=\"col-span-3 space-y-3 py-3\">\\n            <h2 class=\"text-2xl text-green-900\">gas tonight almost</h2>\\n            <div class=\"grid grid-cols-2 italic\">\\n                <p> 2016-12-11 </p>\\n                <p class=\"text-right\">By Barbara Martin </p>\\n            </div>\\n            <p>Require seem treat of beat financial. Traditional just soon.\\nStop recent home game join summer through. Ready forget offer fine money.</p>\\n        </div>\\n    </div>\\n    \\n    <div class=\"grid grid-cols-4 gap-x-4 border rounded pr-3 bg-green-50 hover:shadow-lg transition duration-500\">\\n        <img src=\"/static/placeholder.png\" />\\n        <div class=\"col-span-3 space-y-3 py-3\">\\n            <h2 class=\"text-2xl text-green-900\">season region education</h2>\\n            <div class=\"grid grid-cols-2 italic\">\\n                <p> 1983-04-21 </p>\\n                <p class=\"text-right\">By Kenneth Scott </p>\\n            </div>\\n            <p>Single likely federal majority politics. Wonder live want girl picture most paper grow.\\nTrouble let class talk item dream. Party way star drug. Teacher street international evidence top increase religious.</p>\\n        </div>\\n    </div>\\n    \\n    <div class=\"grid grid-cols-4 gap-x-4 border rounded pr-3 bg-green-50 hover:shadow-lg transition duration-500\">\\n        <img src=\"/static/placeholder.png\" />\\n        <div class=\"col-span-3 space-y-3 py-3\">\\n            <h2 class=\"text-2xl text-green-900\">song true some</h2>\\n            <div class=\"grid grid-cols-2 italic\">\\n                <p> 1998-03-11 </p>\\n                <p class=\"text-right\">By April Sanchez </p>\\n            </div>\\n            <p>Wonder case forward improve today describe. Think actually as wish peace it in beyond. Eat woman sense design candidate happen.\\nWatch toward along serve decide wait. Partner black other election later social. Arm start attention audience media machine executive.</p>\\n        </div>\\n    </div>\\n    \\n    <div class=\"grid grid-cols-4 gap-x-4 border rounded pr-3 bg-green-50 hover:shadow-lg transition duration-500\">\\n        <img src=\"/static/placeholder.png\" />\\n        <div class=\"col-span-3 space-y-3 py-3\">\\n            <h2 class=\"text-2xl text-green-900\">season call save</h2>\\n            <div class=\"grid grid-cols-2 italic\">\\n                <p> 1994-04-18 </p>\\n                <p class=\"text-right\">By Robert Shea </p>\\n            </div>\\n            <p>Since realize simply deep. Red small behavior relate. Coach smile raise go former skill second.\\nFire rich factor standard north field. Sure fine pick administration.</p>\\n        </div>\\n    </div>\\n    \\n    <div class=\"grid grid-cols-4 gap-x-4 border rounded pr-3 bg-green-50 hover:shadow-lg transition duration-500\">\\n        <img src=\"/static/placeholder.png\" />\\n        <div class=\"col-span-3 space-y-3 py-3\">\\n            <h2 class=\"text-2xl text-green-900\">read couple surface</h2>\\n            <div class=\"grid grid-cols-2 italic\">\\n                <p> 1990-03-12 </p>\\n                <p class=\"text-right\">By Danielle Adams </p>\\n            </div>\\n            <p>Newspaper coach who every into term indicate although. To return open truth. Know several series eight.\\nToward north beyond company. Yard eye third know performance.</p>\\n        </div>\\n    </div>\\n    \\n    <div class=\"grid grid-cols-4 gap-x-4 border rounded pr-3 bg-green-50 hover:shadow-lg transition duration-500\">\\n        <img src=\"/static/placeholder.png\" />\\n        <div class=\"col-span-3 space-y-3 py-3\">\\n            <h2 class=\"text-2xl text-green-900\">federal sometimes participant</h2>\\n            <div class=\"grid grid-cols-2 italic\">\\n                <p> 2013-03-14 </p>\\n                <p class=\"text-right\">By David Wheeler </p>\\n            </div>\\n            <p>Bed work light free end entire. Night seek ask suffer south maybe.\\nMatter join let right remain step likely. Share oil perhaps Republican stay him door.</p>\\n        </div>\\n    </div>\\n    \\n    <div class=\"grid grid-cols-4 gap-x-4 border rounded pr-3 bg-green-50 hover:shadow-lg transition duration-500\">\\n        <img src=\"/static/placeholder.png\" />\\n        <div class=\"col-span-3 space-y-3 py-3\">\\n            <h2 class=\"text-2xl text-green-900\">place data more</h2>\\n            <div class=\"grid grid-cols-2 italic\">\\n                <p> 2015-10-12 </p>\\n                <p class=\"text-right\">By Kelly Reeves </p>\\n            </div>\\n            <p>Second agreement couple occur close different.\\nEvent up nor. Eat wrong situation doctor.</p>\\n        </div>\\n    </div>\\n    \\n</div>\\n\\n</body>\\n</html>'"
      ]
     },
     "execution_count": 3,
     "metadata": {},
     "output_type": "execute_result"
    }
   ],
   "source": [
    "response = requests.get('https://web-scraping-demo.zgulde.net/news')\n",
    "html = response.text\n",
    "html"
   ]
  },
  {
   "cell_type": "markdown",
   "metadata": {},
   "source": [
    "We can make more sense of that html with the beautiful soup library."
   ]
  },
  {
   "cell_type": "code",
   "execution_count": 4,
   "metadata": {},
   "outputs": [
    {
     "data": {
      "text/plain": [
       "<!DOCTYPE html>\n",
       "<html lang=\"en\">\n",
       "<head>\n",
       "<meta charset=\"utf-8\"/>\n",
       "<meta content=\"IE=edge\" http-equiv=\"X-UA-Compatible\"/>\n",
       "<meta content=\"width=device-width, initial-scale=1.0\" name=\"viewport\"/>\n",
       "<title>News Example Page</title>\n",
       "<link href=\"https://unpkg.com/tailwindcss@^2/dist/tailwind.min.css\" rel=\"stylesheet\"/>\n",
       "<link href=\"https://cdn.jsdelivr.net/npm/bootstrap-icons@1.4.1/font/bootstrap-icons.css\" rel=\"stylesheet\"/>\n",
       "</head>\n",
       "<body class=\"mx-auto max-w-screen-lg pb-32\">\n",
       "<h1 class=\"my-5 text-4xl text-center\">News!</h1>\n",
       "<div class=\"my-5 text-red-800 px-5 py-3 bg-red-100 font-bold\">\n",
       "<p>\n",
       "<i class=\"bi bi-exclamation-circle text-xl\"></i>\n",
       "        All data on this page is strictly for demonstration purposes and fake.\n",
       "    </p>\n",
       "</div>\n",
       "<div class=\"grid gap-y-12\">\n",
       "<div class=\"grid grid-cols-4 gap-x-4 border rounded pr-3 bg-green-50 hover:shadow-lg transition duration-500\">\n",
       "<img src=\"/static/placeholder.png\"/>\n",
       "<div class=\"col-span-3 space-y-3 py-3\">\n",
       "<h2 class=\"text-2xl text-green-900\">knowledge life blue</h2>\n",
       "<div class=\"grid grid-cols-2 italic\">\n",
       "<p> 1975-08-28 </p>\n",
       "<p class=\"text-right\">By Brett Leach </p>\n",
       "</div>\n",
       "<p>Writer people less defense. Data once year region spend street.\n",
       "Evening consider from rate guess. Style opportunity bar law material. Be purpose picture make left. Hair north million create various.</p>\n",
       "</div>\n",
       "</div>\n",
       "<div class=\"grid grid-cols-4 gap-x-4 border rounded pr-3 bg-green-50 hover:shadow-lg transition duration-500\">\n",
       "<img src=\"/static/placeholder.png\"/>\n",
       "<div class=\"col-span-3 space-y-3 py-3\">\n",
       "<h2 class=\"text-2xl text-green-900\">address campaign ball</h2>\n",
       "<div class=\"grid grid-cols-2 italic\">\n",
       "<p> 1989-01-21 </p>\n",
       "<p class=\"text-right\">By Tanner Morton </p>\n",
       "</div>\n",
       "<p>Little garden together edge. Feeling save prepare south opportunity collection better.\n",
       "Stuff one sometimes financial. Former tend range. Fear range southern plan benefit time suffer.</p>\n",
       "</div>\n",
       "</div>\n",
       "<div class=\"grid grid-cols-4 gap-x-4 border rounded pr-3 bg-green-50 hover:shadow-lg transition duration-500\">\n",
       "<img src=\"/static/placeholder.png\"/>\n",
       "<div class=\"col-span-3 space-y-3 py-3\">\n",
       "<h2 class=\"text-2xl text-green-900\">worry project none</h2>\n",
       "<div class=\"grid grid-cols-2 italic\">\n",
       "<p> 2012-01-25 </p>\n",
       "<p class=\"text-right\">By Robert Walker </p>\n",
       "</div>\n",
       "<p>Same wife poor require prepare. Song several detail.\n",
       "Teacher night place they. Behind require far that way.</p>\n",
       "</div>\n",
       "</div>\n",
       "<div class=\"grid grid-cols-4 gap-x-4 border rounded pr-3 bg-green-50 hover:shadow-lg transition duration-500\">\n",
       "<img src=\"/static/placeholder.png\"/>\n",
       "<div class=\"col-span-3 space-y-3 py-3\">\n",
       "<h2 class=\"text-2xl text-green-900\">election enough trouble</h2>\n",
       "<div class=\"grid grid-cols-2 italic\">\n",
       "<p> 2021-07-03 </p>\n",
       "<p class=\"text-right\">By Andrea Hahn </p>\n",
       "</div>\n",
       "<p>Amount develop draw safe system statement culture. Century second continue.\n",
       "Sound ask fly east such less. Trouble mind admit red quality.</p>\n",
       "</div>\n",
       "</div>\n",
       "<div class=\"grid grid-cols-4 gap-x-4 border rounded pr-3 bg-green-50 hover:shadow-lg transition duration-500\">\n",
       "<img src=\"/static/placeholder.png\"/>\n",
       "<div class=\"col-span-3 space-y-3 py-3\">\n",
       "<h2 class=\"text-2xl text-green-900\">past yourself talk</h2>\n",
       "<div class=\"grid grid-cols-2 italic\">\n",
       "<p> 1981-12-09 </p>\n",
       "<p class=\"text-right\">By Erin Woods </p>\n",
       "</div>\n",
       "<p>Each from tell. All mouth must event less all position scene.\n",
       "Indeed itself hair easy. Meeting score about. Guy under religious election instead professional.</p>\n",
       "</div>\n",
       "</div>\n",
       "<div class=\"grid grid-cols-4 gap-x-4 border rounded pr-3 bg-green-50 hover:shadow-lg transition duration-500\">\n",
       "<img src=\"/static/placeholder.png\"/>\n",
       "<div class=\"col-span-3 space-y-3 py-3\">\n",
       "<h2 class=\"text-2xl text-green-900\">gas tonight almost</h2>\n",
       "<div class=\"grid grid-cols-2 italic\">\n",
       "<p> 2016-12-11 </p>\n",
       "<p class=\"text-right\">By Barbara Martin </p>\n",
       "</div>\n",
       "<p>Require seem treat of beat financial. Traditional just soon.\n",
       "Stop recent home game join summer through. Ready forget offer fine money.</p>\n",
       "</div>\n",
       "</div>\n",
       "<div class=\"grid grid-cols-4 gap-x-4 border rounded pr-3 bg-green-50 hover:shadow-lg transition duration-500\">\n",
       "<img src=\"/static/placeholder.png\"/>\n",
       "<div class=\"col-span-3 space-y-3 py-3\">\n",
       "<h2 class=\"text-2xl text-green-900\">season region education</h2>\n",
       "<div class=\"grid grid-cols-2 italic\">\n",
       "<p> 1983-04-21 </p>\n",
       "<p class=\"text-right\">By Kenneth Scott </p>\n",
       "</div>\n",
       "<p>Single likely federal majority politics. Wonder live want girl picture most paper grow.\n",
       "Trouble let class talk item dream. Party way star drug. Teacher street international evidence top increase religious.</p>\n",
       "</div>\n",
       "</div>\n",
       "<div class=\"grid grid-cols-4 gap-x-4 border rounded pr-3 bg-green-50 hover:shadow-lg transition duration-500\">\n",
       "<img src=\"/static/placeholder.png\"/>\n",
       "<div class=\"col-span-3 space-y-3 py-3\">\n",
       "<h2 class=\"text-2xl text-green-900\">song true some</h2>\n",
       "<div class=\"grid grid-cols-2 italic\">\n",
       "<p> 1998-03-11 </p>\n",
       "<p class=\"text-right\">By April Sanchez </p>\n",
       "</div>\n",
       "<p>Wonder case forward improve today describe. Think actually as wish peace it in beyond. Eat woman sense design candidate happen.\n",
       "Watch toward along serve decide wait. Partner black other election later social. Arm start attention audience media machine executive.</p>\n",
       "</div>\n",
       "</div>\n",
       "<div class=\"grid grid-cols-4 gap-x-4 border rounded pr-3 bg-green-50 hover:shadow-lg transition duration-500\">\n",
       "<img src=\"/static/placeholder.png\"/>\n",
       "<div class=\"col-span-3 space-y-3 py-3\">\n",
       "<h2 class=\"text-2xl text-green-900\">season call save</h2>\n",
       "<div class=\"grid grid-cols-2 italic\">\n",
       "<p> 1994-04-18 </p>\n",
       "<p class=\"text-right\">By Robert Shea </p>\n",
       "</div>\n",
       "<p>Since realize simply deep. Red small behavior relate. Coach smile raise go former skill second.\n",
       "Fire rich factor standard north field. Sure fine pick administration.</p>\n",
       "</div>\n",
       "</div>\n",
       "<div class=\"grid grid-cols-4 gap-x-4 border rounded pr-3 bg-green-50 hover:shadow-lg transition duration-500\">\n",
       "<img src=\"/static/placeholder.png\"/>\n",
       "<div class=\"col-span-3 space-y-3 py-3\">\n",
       "<h2 class=\"text-2xl text-green-900\">read couple surface</h2>\n",
       "<div class=\"grid grid-cols-2 italic\">\n",
       "<p> 1990-03-12 </p>\n",
       "<p class=\"text-right\">By Danielle Adams </p>\n",
       "</div>\n",
       "<p>Newspaper coach who every into term indicate although. To return open truth. Know several series eight.\n",
       "Toward north beyond company. Yard eye third know performance.</p>\n",
       "</div>\n",
       "</div>\n",
       "<div class=\"grid grid-cols-4 gap-x-4 border rounded pr-3 bg-green-50 hover:shadow-lg transition duration-500\">\n",
       "<img src=\"/static/placeholder.png\"/>\n",
       "<div class=\"col-span-3 space-y-3 py-3\">\n",
       "<h2 class=\"text-2xl text-green-900\">federal sometimes participant</h2>\n",
       "<div class=\"grid grid-cols-2 italic\">\n",
       "<p> 2013-03-14 </p>\n",
       "<p class=\"text-right\">By David Wheeler </p>\n",
       "</div>\n",
       "<p>Bed work light free end entire. Night seek ask suffer south maybe.\n",
       "Matter join let right remain step likely. Share oil perhaps Republican stay him door.</p>\n",
       "</div>\n",
       "</div>\n",
       "<div class=\"grid grid-cols-4 gap-x-4 border rounded pr-3 bg-green-50 hover:shadow-lg transition duration-500\">\n",
       "<img src=\"/static/placeholder.png\"/>\n",
       "<div class=\"col-span-3 space-y-3 py-3\">\n",
       "<h2 class=\"text-2xl text-green-900\">place data more</h2>\n",
       "<div class=\"grid grid-cols-2 italic\">\n",
       "<p> 2015-10-12 </p>\n",
       "<p class=\"text-right\">By Kelly Reeves </p>\n",
       "</div>\n",
       "<p>Second agreement couple occur close different.\n",
       "Event up nor. Eat wrong situation doctor.</p>\n",
       "</div>\n",
       "</div>\n",
       "</div>\n",
       "</body>\n",
       "</html>"
      ]
     },
     "execution_count": 4,
     "metadata": {},
     "output_type": "execute_result"
    }
   ],
   "source": [
    "soup = BeautifulSoup(html)\n",
    "soup"
   ]
  },
  {
   "cell_type": "markdown",
   "metadata": {},
   "source": [
    "From here we can switch between the browser and python and try out different ways of getting different parts of the html document.\n",
    "\n",
    "We can leverage Google Chrome's developer tools by right clicking and choosing \"Inspect\". We can then use this html document inspector to help us with our web scraping."
   ]
  },
  {
   "cell_type": "code",
   "execution_count": 5,
   "metadata": {},
   "outputs": [
    {
     "data": {
      "text/plain": [
       "[<p> 1975-08-28 </p>, <p class=\"text-right\">By Brett Leach </p>]"
      ]
     },
     "execution_count": 5,
     "metadata": {},
     "output_type": "execute_result"
    }
   ],
   "source": [
    "articles = soup.select('.grid.grid-cols-4.gap-x-4.border')\n",
    "articles[0].select('.italic')[0].select('p')"
   ]
  },
  {
   "cell_type": "code",
   "execution_count": 7,
   "metadata": {},
   "outputs": [],
   "source": [
    "article = articles[0]"
   ]
  },
  {
   "cell_type": "code",
   "execution_count": 11,
   "metadata": {},
   "outputs": [
    {
     "data": {
      "text/plain": [
       "'Writer people less defense. Data once year region spend street.\\nEvening consider from rate guess. Style opportunity bar law material. Be purpose picture make left. Hair north million create various.'"
      ]
     },
     "execution_count": 11,
     "metadata": {},
     "output_type": "execute_result"
    }
   ],
   "source": [
    "article.find_all('p')[-1].text"
   ]
  },
  {
   "cell_type": "markdown",
   "metadata": {},
   "source": [
    "Bringing it all together:"
   ]
  },
  {
   "cell_type": "code",
   "execution_count": 5,
   "metadata": {},
   "outputs": [
    {
     "data": {
      "text/html": [
       "<div>\n",
       "<style scoped>\n",
       "    .dataframe tbody tr th:only-of-type {\n",
       "        vertical-align: middle;\n",
       "    }\n",
       "\n",
       "    .dataframe tbody tr th {\n",
       "        vertical-align: top;\n",
       "    }\n",
       "\n",
       "    .dataframe thead th {\n",
       "        text-align: right;\n",
       "    }\n",
       "</style>\n",
       "<table border=\"1\" class=\"dataframe\">\n",
       "  <thead>\n",
       "    <tr style=\"text-align: right;\">\n",
       "      <th></th>\n",
       "      <th>title</th>\n",
       "      <th>date</th>\n",
       "      <th>author</th>\n",
       "    </tr>\n",
       "  </thead>\n",
       "  <tbody>\n",
       "    <tr>\n",
       "      <th>0</th>\n",
       "      <td>address gun different</td>\n",
       "      <td>2020-01-13</td>\n",
       "      <td>By Curtis Watkins</td>\n",
       "    </tr>\n",
       "    <tr>\n",
       "      <th>1</th>\n",
       "      <td>image candidate window</td>\n",
       "      <td>2020-01-13</td>\n",
       "      <td>By Curtis Watkins</td>\n",
       "    </tr>\n",
       "    <tr>\n",
       "      <th>2</th>\n",
       "      <td>necessary part sense</td>\n",
       "      <td>2020-01-13</td>\n",
       "      <td>By Curtis Watkins</td>\n",
       "    </tr>\n",
       "    <tr>\n",
       "      <th>3</th>\n",
       "      <td>major example know</td>\n",
       "      <td>2020-01-13</td>\n",
       "      <td>By Curtis Watkins</td>\n",
       "    </tr>\n",
       "    <tr>\n",
       "      <th>4</th>\n",
       "      <td>the both poor</td>\n",
       "      <td>2020-01-13</td>\n",
       "      <td>By Curtis Watkins</td>\n",
       "    </tr>\n",
       "    <tr>\n",
       "      <th>5</th>\n",
       "      <td>laugh life spring</td>\n",
       "      <td>2020-01-13</td>\n",
       "      <td>By Curtis Watkins</td>\n",
       "    </tr>\n",
       "    <tr>\n",
       "      <th>6</th>\n",
       "      <td>up mention house</td>\n",
       "      <td>2020-01-13</td>\n",
       "      <td>By Curtis Watkins</td>\n",
       "    </tr>\n",
       "    <tr>\n",
       "      <th>7</th>\n",
       "      <td>onto grow theory</td>\n",
       "      <td>2020-01-13</td>\n",
       "      <td>By Curtis Watkins</td>\n",
       "    </tr>\n",
       "    <tr>\n",
       "      <th>8</th>\n",
       "      <td>wide agree card</td>\n",
       "      <td>2020-01-13</td>\n",
       "      <td>By Curtis Watkins</td>\n",
       "    </tr>\n",
       "    <tr>\n",
       "      <th>9</th>\n",
       "      <td>fact successful sense</td>\n",
       "      <td>2020-01-13</td>\n",
       "      <td>By Curtis Watkins</td>\n",
       "    </tr>\n",
       "    <tr>\n",
       "      <th>10</th>\n",
       "      <td>different forward clearly</td>\n",
       "      <td>2020-01-13</td>\n",
       "      <td>By Curtis Watkins</td>\n",
       "    </tr>\n",
       "    <tr>\n",
       "      <th>11</th>\n",
       "      <td>morning discussion step</td>\n",
       "      <td>2020-01-13</td>\n",
       "      <td>By Curtis Watkins</td>\n",
       "    </tr>\n",
       "  </tbody>\n",
       "</table>\n",
       "</div>"
      ],
      "text/plain": [
       "                        title          date              author\n",
       "0       address gun different   2020-01-13   By Curtis Watkins \n",
       "1      image candidate window   2020-01-13   By Curtis Watkins \n",
       "2        necessary part sense   2020-01-13   By Curtis Watkins \n",
       "3          major example know   2020-01-13   By Curtis Watkins \n",
       "4               the both poor   2020-01-13   By Curtis Watkins \n",
       "5           laugh life spring   2020-01-13   By Curtis Watkins \n",
       "6            up mention house   2020-01-13   By Curtis Watkins \n",
       "7            onto grow theory   2020-01-13   By Curtis Watkins \n",
       "8             wide agree card   2020-01-13   By Curtis Watkins \n",
       "9       fact successful sense   2020-01-13   By Curtis Watkins \n",
       "10  different forward clearly   2020-01-13   By Curtis Watkins \n",
       "11    morning discussion step   2020-01-13   By Curtis Watkins "
      ]
     },
     "execution_count": 5,
     "metadata": {},
     "output_type": "execute_result"
    }
   ],
   "source": [
    "def process_article(article):\n",
    "    date, author = articles[0].select('.italic')[0].select('p')\n",
    "    return {\n",
    "        'title': article.h2.text,\n",
    "        'date': date.text,\n",
    "        'author': author.text\n",
    "    }\n",
    "\n",
    "pd.DataFrame([process_article(article) for article in articles])"
   ]
  },
  {
   "cell_type": "markdown",
   "metadata": {},
   "source": [
    "## Soup Methods\n",
    "\n",
    "- `soup.select('.class')`: to get all the elements with class `class`\n",
    "- `soup.select_one('.class')`: to get the first element with class `class`\n",
    "- `soup.h2`: to get the first `h2` element\n",
    "- `soup.find_all('p')`: to get all the elements with tag name of `p`"
   ]
  },
  {
   "cell_type": "markdown",
   "metadata": {},
   "source": [
    "## Scraping People"
   ]
  },
  {
   "cell_type": "code",
   "execution_count": 21,
   "metadata": {},
   "outputs": [],
   "source": [
    "response = requests.get('https://web-scraping-demo.zgulde.net/people', headers={'user-agent': 'Codeup DS Germain'})\n",
    "soup = BeautifulSoup(response.text)"
   ]
  },
  {
   "cell_type": "code",
   "execution_count": 27,
   "metadata": {},
   "outputs": [],
   "source": [
    "people = soup.select('.person')"
   ]
  },
  {
   "cell_type": "code",
   "execution_count": 28,
   "metadata": {},
   "outputs": [],
   "source": [
    "person = people[0]"
   ]
  },
  {
   "cell_type": "code",
   "execution_count": 73,
   "metadata": {},
   "outputs": [],
   "source": [
    "import re\n",
    "\n",
    "\n",
    "def parse_person(person):\n",
    "    name = person.h2.text\n",
    "    # .p finds the first p element; or element with a tag name of \"p\"\n",
    "    quote = person.p.text.strip()\n",
    "    # email\n",
    "    email = person.select('.email')[0].text\n",
    "    # phone\n",
    "    phone = person.select('.phone')[0].text\n",
    "    # address\n",
    "    address = person.select('.address')[0].text.strip()\n",
    "    address = re.sub(r'\\s{2,}', ' ', address)\n",
    "    \n",
    "    return {'name': name, 'quote': quote, 'email': email, 'phone': phone, 'address': address}"
   ]
  },
  {
   "cell_type": "code",
   "execution_count": 80,
   "metadata": {},
   "outputs": [
    {
     "data": {
      "text/html": [
       "<div>\n",
       "<style scoped>\n",
       "    .dataframe tbody tr th:only-of-type {\n",
       "        vertical-align: middle;\n",
       "    }\n",
       "\n",
       "    .dataframe tbody tr th {\n",
       "        vertical-align: top;\n",
       "    }\n",
       "\n",
       "    .dataframe thead th {\n",
       "        text-align: right;\n",
       "    }\n",
       "</style>\n",
       "<table border=\"1\" class=\"dataframe\">\n",
       "  <thead>\n",
       "    <tr style=\"text-align: right;\">\n",
       "      <th></th>\n",
       "      <th>name</th>\n",
       "      <th>quote</th>\n",
       "      <th>email</th>\n",
       "      <th>phone</th>\n",
       "      <th>address</th>\n",
       "    </tr>\n",
       "  </thead>\n",
       "  <tbody>\n",
       "    <tr>\n",
       "      <th>0</th>\n",
       "      <td>Andre Griffin</td>\n",
       "      <td>\"Phased leadingedge policy\"</td>\n",
       "      <td>thomaskim@gmail.com</td>\n",
       "      <td>(436)679-1646x0120</td>\n",
       "      <td>060 Kathy Mountain Suite 012 Daltonchester, NH...</td>\n",
       "    </tr>\n",
       "    <tr>\n",
       "      <th>1</th>\n",
       "      <td>Maria Thompson</td>\n",
       "      <td>\"Universal exuding synergy\"</td>\n",
       "      <td>llee@torres.com</td>\n",
       "      <td>(123)875-0068x72236</td>\n",
       "      <td>46885 Lori Locks Lucasside, TN 85690</td>\n",
       "    </tr>\n",
       "    <tr>\n",
       "      <th>2</th>\n",
       "      <td>Sarah Morales DDS</td>\n",
       "      <td>\"Exclusive leadingedge array\"</td>\n",
       "      <td>gonzalezangela@holt.com</td>\n",
       "      <td>(567)108-2583</td>\n",
       "      <td>192 Sanders Wall Ritafurt, MI 20512</td>\n",
       "    </tr>\n",
       "    <tr>\n",
       "      <th>3</th>\n",
       "      <td>Charles Goodman</td>\n",
       "      <td>\"Diverse actuating monitoring\"</td>\n",
       "      <td>amber48@gates.info</td>\n",
       "      <td>1452733117</td>\n",
       "      <td>058 Lynn Causeway East Jessicaberg, NM 02370</td>\n",
       "    </tr>\n",
       "    <tr>\n",
       "      <th>4</th>\n",
       "      <td>Jeremy Owens</td>\n",
       "      <td>\"Profound multi-tasking project\"</td>\n",
       "      <td>michelle07@walls.com</td>\n",
       "      <td>+1-249-206-1988</td>\n",
       "      <td>6144 Christina Locks Williambury, WY 38484</td>\n",
       "    </tr>\n",
       "    <tr>\n",
       "      <th>5</th>\n",
       "      <td>Rebecca Jackson</td>\n",
       "      <td>\"Monitored methodical knowledge user\"</td>\n",
       "      <td>uholland@rubio.com</td>\n",
       "      <td>248-719-3324x74895</td>\n",
       "      <td>378 Zavala Camp Port Rebeccafurt, MS 37657</td>\n",
       "    </tr>\n",
       "    <tr>\n",
       "      <th>6</th>\n",
       "      <td>Carol Ward</td>\n",
       "      <td>\"Programmable explicit frame\"</td>\n",
       "      <td>joanna31@hotmail.com</td>\n",
       "      <td>001-726-765-3318x78956</td>\n",
       "      <td>982 Davis Mill Apt. 088 West Christineshire, M...</td>\n",
       "    </tr>\n",
       "    <tr>\n",
       "      <th>7</th>\n",
       "      <td>Amanda Johnson</td>\n",
       "      <td>\"Optimized even-keeled help-desk\"</td>\n",
       "      <td>ryan77@williams-ross.org</td>\n",
       "      <td>+1-201-149-5239</td>\n",
       "      <td>581 Holmes Islands Apt. 776 West Denise, MI 47197</td>\n",
       "    </tr>\n",
       "    <tr>\n",
       "      <th>8</th>\n",
       "      <td>Matthew Cruz</td>\n",
       "      <td>\"Organized fault-tolerant secured line\"</td>\n",
       "      <td>ophillips@hotmail.com</td>\n",
       "      <td>+1-161-190-2315x11798</td>\n",
       "      <td>5735 Goodwin Extension Suite 339 Markland, ID ...</td>\n",
       "    </tr>\n",
       "    <tr>\n",
       "      <th>9</th>\n",
       "      <td>George Mcmillan</td>\n",
       "      <td>\"Fully-configurable high-level firmware\"</td>\n",
       "      <td>garciataylor@gmail.com</td>\n",
       "      <td>643.855.9056x93770</td>\n",
       "      <td>11309 Wilson Plain Apt. 385 Kellyburgh, ID 08407</td>\n",
       "    </tr>\n",
       "  </tbody>\n",
       "</table>\n",
       "</div>"
      ],
      "text/plain": [
       "                name                                     quote  \\\n",
       "0      Andre Griffin               \"Phased leadingedge policy\"   \n",
       "1     Maria Thompson               \"Universal exuding synergy\"   \n",
       "2  Sarah Morales DDS             \"Exclusive leadingedge array\"   \n",
       "3    Charles Goodman            \"Diverse actuating monitoring\"   \n",
       "4       Jeremy Owens          \"Profound multi-tasking project\"   \n",
       "5    Rebecca Jackson     \"Monitored methodical knowledge user\"   \n",
       "6         Carol Ward             \"Programmable explicit frame\"   \n",
       "7     Amanda Johnson         \"Optimized even-keeled help-desk\"   \n",
       "8       Matthew Cruz   \"Organized fault-tolerant secured line\"   \n",
       "9    George Mcmillan  \"Fully-configurable high-level firmware\"   \n",
       "\n",
       "                      email                   phone  \\\n",
       "0       thomaskim@gmail.com      (436)679-1646x0120   \n",
       "1           llee@torres.com     (123)875-0068x72236   \n",
       "2   gonzalezangela@holt.com           (567)108-2583   \n",
       "3        amber48@gates.info              1452733117   \n",
       "4      michelle07@walls.com         +1-249-206-1988   \n",
       "5        uholland@rubio.com      248-719-3324x74895   \n",
       "6      joanna31@hotmail.com  001-726-765-3318x78956   \n",
       "7  ryan77@williams-ross.org         +1-201-149-5239   \n",
       "8     ophillips@hotmail.com   +1-161-190-2315x11798   \n",
       "9    garciataylor@gmail.com      643.855.9056x93770   \n",
       "\n",
       "                                             address  \n",
       "0  060 Kathy Mountain Suite 012 Daltonchester, NH...  \n",
       "1               46885 Lori Locks Lucasside, TN 85690  \n",
       "2                192 Sanders Wall Ritafurt, MI 20512  \n",
       "3       058 Lynn Causeway East Jessicaberg, NM 02370  \n",
       "4         6144 Christina Locks Williambury, WY 38484  \n",
       "5         378 Zavala Camp Port Rebeccafurt, MS 37657  \n",
       "6  982 Davis Mill Apt. 088 West Christineshire, M...  \n",
       "7  581 Holmes Islands Apt. 776 West Denise, MI 47197  \n",
       "8  5735 Goodwin Extension Suite 339 Markland, ID ...  \n",
       "9   11309 Wilson Plain Apt. 385 Kellyburgh, ID 08407  "
      ]
     },
     "execution_count": 80,
     "metadata": {},
     "output_type": "execute_result"
    }
   ],
   "source": [
    "pd.DataFrame([parse_person(person) for person in people])"
   ]
  },
  {
   "cell_type": "markdown",
   "metadata": {},
   "source": [
    "## Web Scraping Etiquitte\n",
    "\n",
    "- respect the `robots.txt` file if present\n",
    "\n",
    "    * [Wikipedia: Robots exclusion standard](https://en.wikipedia.org/wiki/Robots_exclusion_standard)\n",
    "    * [robotstxt.org](http://www.robotstxt.org/robotstxt.html)\n",
    "    * [codeup's robots.txt](https://codeup.com/robots.txt)\n",
    "\n",
    "- use a descriptive user agent\n",
    "\n",
    "    ```python\n",
    "    requests.get('http://example.com', headers={'user-agent': 'codeup data science germain cohort'})\n",
    "    ```"
   ]
  }
 ],
 "metadata": {
  "interpreter": {
   "hash": "38cca0c38332a56087b24af0bc80247f4fced29cb4f7f437d91dc159adec9c4e"
  },
  "kernelspec": {
   "display_name": "Python 3",
   "language": "python",
   "name": "python3"
  },
  "language_info": {
   "codemirror_mode": {
    "name": "ipython",
    "version": 3
   },
   "file_extension": ".py",
   "mimetype": "text/x-python",
   "name": "python",
   "nbconvert_exporter": "python",
   "pygments_lexer": "ipython3",
   "version": "3.8.8"
  }
 },
 "nbformat": 4,
 "nbformat_minor": 4
}
